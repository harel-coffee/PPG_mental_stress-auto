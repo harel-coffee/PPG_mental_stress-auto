{
  "nbformat": 4,
  "nbformat_minor": 0,
  "metadata": {
    "colab": {
      "name": "GA.ipynb",
      "provenance": [],
      "authorship_tag": "ABX9TyNluVOpU2xhhEuduqwXmbE+",
      "include_colab_link": true
    },
    "kernelspec": {
      "name": "python3",
      "display_name": "Python 3"
    }
  },
  "cells": [
    {
      "cell_type": "markdown",
      "metadata": {
        "id": "view-in-github",
        "colab_type": "text"
      },
      "source": [
        "<a href=\"https://colab.research.google.com/github/talhaanwarch/PPG_mental_stress/blob/master/GA.ipynb\" target=\"_parent\"><img src=\"https://colab.research.google.com/assets/colab-badge.svg\" alt=\"Open In Colab\"/></a>"
      ]
    },
    {
      "cell_type": "code",
      "metadata": {
        "id": "9bjIVtZF7qCz",
        "colab_type": "code",
        "colab": {
          "base_uri": "https://localhost:8080/",
          "height": 118
        },
        "outputId": "20548e83-7548-43a1-9ea0-3361e5308df5"
      },
      "source": [
        "!pip install deap"
      ],
      "execution_count": 6,
      "outputs": [
        {
          "output_type": "stream",
          "text": [
            "Collecting deap\n",
            "\u001b[?25l  Downloading https://files.pythonhosted.org/packages/0a/eb/2bd0a32e3ce757fb26264765abbaedd6d4d3640d90219a513aeabd08ee2b/deap-1.3.1-cp36-cp36m-manylinux2010_x86_64.whl (157kB)\n",
            "\r\u001b[K     |██                              | 10kB 14.8MB/s eta 0:00:01\r\u001b[K     |████▏                           | 20kB 1.7MB/s eta 0:00:01\r\u001b[K     |██████▎                         | 30kB 2.1MB/s eta 0:00:01\r\u001b[K     |████████▍                       | 40kB 2.3MB/s eta 0:00:01\r\u001b[K     |██████████▍                     | 51kB 2.0MB/s eta 0:00:01\r\u001b[K     |████████████▌                   | 61kB 2.3MB/s eta 0:00:01\r\u001b[K     |██████████████▋                 | 71kB 2.5MB/s eta 0:00:01\r\u001b[K     |████████████████▊               | 81kB 2.7MB/s eta 0:00:01\r\u001b[K     |██████████████████▊             | 92kB 2.9MB/s eta 0:00:01\r\u001b[K     |████████████████████▉           | 102kB 2.8MB/s eta 0:00:01\r\u001b[K     |███████████████████████         | 112kB 2.8MB/s eta 0:00:01\r\u001b[K     |█████████████████████████       | 122kB 2.8MB/s eta 0:00:01\r\u001b[K     |███████████████████████████▏    | 133kB 2.8MB/s eta 0:00:01\r\u001b[K     |█████████████████████████████▏  | 143kB 2.8MB/s eta 0:00:01\r\u001b[K     |███████████████████████████████▎| 153kB 2.8MB/s eta 0:00:01\r\u001b[K     |████████████████████████████████| 163kB 2.8MB/s \n",
            "\u001b[?25hRequirement already satisfied: numpy in /usr/local/lib/python3.6/dist-packages (from deap) (1.18.3)\n",
            "Installing collected packages: deap\n",
            "Successfully installed deap-1.3.1\n"
          ],
          "name": "stdout"
        }
      ]
    },
    {
      "cell_type": "code",
      "metadata": {
        "id": "9PWYWz9xH-dF",
        "colab_type": "code",
        "colab": {}
      },
      "source": [
        "import pandas as pd\n",
        "from sklearn.model_selection import GridSearchCV\n",
        "from sklearn.decomposition import PCA\n",
        "from sklearn.svm import SVC, LinearSVC, NuSVC\n",
        "from sklearn.preprocessing import StandardScaler\n",
        "from sklearn.pipeline import Pipeline\n"
      ],
      "execution_count": 0,
      "outputs": []
    },
    {
      "cell_type": "code",
      "metadata": {
        "id": "Nig7zR5hIFqd",
        "colab_type": "code",
        "colab": {}
      },
      "source": [
        "url='https://raw.githubusercontent.com/talhaanwarch/PPG_mental_stress/master/data.csv'"
      ],
      "execution_count": 0,
      "outputs": []
    },
    {
      "cell_type": "code",
      "metadata": {
        "id": "O1n5g_jJIDHy",
        "colab_type": "code",
        "colab": {}
      },
      "source": [
        "data=pd.read_csv(url)"
      ],
      "execution_count": 0,
      "outputs": []
    },
    {
      "cell_type": "code",
      "metadata": {
        "id": "m-7q3g1MIMnW",
        "colab_type": "code",
        "outputId": "6b5b3ade-5001-43b1-f885-a677aadce637",
        "colab": {
          "base_uri": "https://localhost:8080/",
          "height": 229
        }
      },
      "source": [
        "data.head()"
      ],
      "execution_count": 4,
      "outputs": [
        {
          "output_type": "execute_result",
          "data": {
            "text/html": [
              "<div>\n",
              "<style scoped>\n",
              "    .dataframe tbody tr th:only-of-type {\n",
              "        vertical-align: middle;\n",
              "    }\n",
              "\n",
              "    .dataframe tbody tr th {\n",
              "        vertical-align: top;\n",
              "    }\n",
              "\n",
              "    .dataframe thead th {\n",
              "        text-align: right;\n",
              "    }\n",
              "</style>\n",
              "<table border=\"1\" class=\"dataframe\">\n",
              "  <thead>\n",
              "    <tr style=\"text-align: right;\">\n",
              "      <th></th>\n",
              "      <th>Mean RR*</th>\n",
              "      <th>STD RR (SDNN)</th>\n",
              "      <th>Mean HR*</th>\n",
              "      <th>Min HR</th>\n",
              "      <th>RMSSD</th>\n",
              "      <th>NNxx</th>\n",
              "      <th>pNNxx</th>\n",
              "      <th>HRV triangular index</th>\n",
              "      <th>TINN</th>\n",
              "      <th>Poincare plot, SD1</th>\n",
              "      <th>Poincare plot, SD2</th>\n",
              "      <th>FFT Power (ms2)</th>\n",
              "      <th>FFT Power (log)</th>\n",
              "      <th>AR Power (ms2)</th>\n",
              "      <th>AR Power (log)</th>\n",
              "      <th>FFT Power (ms2).1</th>\n",
              "      <th>FFT Power (log).1</th>\n",
              "      <th>AR Power (ms2).1</th>\n",
              "      <th>AR Power (log).1</th>\n",
              "      <th>Class</th>\n",
              "    </tr>\n",
              "  </thead>\n",
              "  <tbody>\n",
              "    <tr>\n",
              "      <th>0</th>\n",
              "      <td>711.63</td>\n",
              "      <td>37.729</td>\n",
              "      <td>84.314</td>\n",
              "      <td>68.650</td>\n",
              "      <td>26.4880</td>\n",
              "      <td>166</td>\n",
              "      <td>9.464100</td>\n",
              "      <td>12.8100</td>\n",
              "      <td>187</td>\n",
              "      <td>9.0405</td>\n",
              "      <td>28.248</td>\n",
              "      <td>268.18</td>\n",
              "      <td>5.5917</td>\n",
              "      <td>289.26</td>\n",
              "      <td>5.6673</td>\n",
              "      <td>53.782</td>\n",
              "      <td>3.9849</td>\n",
              "      <td>56.074</td>\n",
              "      <td>4.0267</td>\n",
              "      <td>0</td>\n",
              "    </tr>\n",
              "    <tr>\n",
              "      <th>1</th>\n",
              "      <td>777.13</td>\n",
              "      <td>12.742</td>\n",
              "      <td>77.207</td>\n",
              "      <td>65.502</td>\n",
              "      <td>8.7235</td>\n",
              "      <td>1</td>\n",
              "      <td>0.062267</td>\n",
              "      <td>4.3668</td>\n",
              "      <td>70</td>\n",
              "      <td>6.1704</td>\n",
              "      <td>16.934</td>\n",
              "      <td>101.23</td>\n",
              "      <td>4.6174</td>\n",
              "      <td>101.64</td>\n",
              "      <td>4.6215</td>\n",
              "      <td>23.747</td>\n",
              "      <td>3.1674</td>\n",
              "      <td>22.940</td>\n",
              "      <td>3.1329</td>\n",
              "      <td>0</td>\n",
              "    </tr>\n",
              "    <tr>\n",
              "      <th>2</th>\n",
              "      <td>620.35</td>\n",
              "      <td>21.315</td>\n",
              "      <td>96.720</td>\n",
              "      <td>80.000</td>\n",
              "      <td>17.4290</td>\n",
              "      <td>30</td>\n",
              "      <td>1.684400</td>\n",
              "      <td>5.3036</td>\n",
              "      <td>194</td>\n",
              "      <td>7.9726</td>\n",
              "      <td>20.423</td>\n",
              "      <td>169.02</td>\n",
              "      <td>5.1300</td>\n",
              "      <td>181.95</td>\n",
              "      <td>5.2037</td>\n",
              "      <td>114.770</td>\n",
              "      <td>4.7429</td>\n",
              "      <td>167.440</td>\n",
              "      <td>5.1206</td>\n",
              "      <td>0</td>\n",
              "    </tr>\n",
              "    <tr>\n",
              "      <th>3</th>\n",
              "      <td>792.12</td>\n",
              "      <td>36.751</td>\n",
              "      <td>75.746</td>\n",
              "      <td>56.604</td>\n",
              "      <td>23.6630</td>\n",
              "      <td>113</td>\n",
              "      <td>7.266900</td>\n",
              "      <td>11.7880</td>\n",
              "      <td>200</td>\n",
              "      <td>16.7380</td>\n",
              "      <td>49.142</td>\n",
              "      <td>900.60</td>\n",
              "      <td>6.8031</td>\n",
              "      <td>862.01</td>\n",
              "      <td>6.7593</td>\n",
              "      <td>157.190</td>\n",
              "      <td>5.0574</td>\n",
              "      <td>156.600</td>\n",
              "      <td>5.0537</td>\n",
              "      <td>0</td>\n",
              "    </tr>\n",
              "    <tr>\n",
              "      <th>4</th>\n",
              "      <td>672.65</td>\n",
              "      <td>39.062</td>\n",
              "      <td>89.199</td>\n",
              "      <td>71.090</td>\n",
              "      <td>21.7000</td>\n",
              "      <td>100</td>\n",
              "      <td>5.546300</td>\n",
              "      <td>10.8670</td>\n",
              "      <td>239</td>\n",
              "      <td>15.3490</td>\n",
              "      <td>53.069</td>\n",
              "      <td>1115.30</td>\n",
              "      <td>7.0169</td>\n",
              "      <td>1111.80</td>\n",
              "      <td>7.0137</td>\n",
              "      <td>130.210</td>\n",
              "      <td>4.8692</td>\n",
              "      <td>134.590</td>\n",
              "      <td>4.9023</td>\n",
              "      <td>0</td>\n",
              "    </tr>\n",
              "  </tbody>\n",
              "</table>\n",
              "</div>"
            ],
            "text/plain": [
              "   Mean RR*  STD RR (SDNN)  Mean HR*  ...  AR Power (ms2).1  AR Power (log).1  Class\n",
              "0    711.63         37.729    84.314  ...            56.074            4.0267      0\n",
              "1    777.13         12.742    77.207  ...            22.940            3.1329      0\n",
              "2    620.35         21.315    96.720  ...           167.440            5.1206      0\n",
              "3    792.12         36.751    75.746  ...           156.600            5.0537      0\n",
              "4    672.65         39.062    89.199  ...           134.590            4.9023      0\n",
              "\n",
              "[5 rows x 20 columns]"
            ]
          },
          "metadata": {
            "tags": []
          },
          "execution_count": 4
        }
      ]
    },
    {
      "cell_type": "code",
      "metadata": {
        "id": "1iCnXpB8INxG",
        "colab_type": "code",
        "colab": {}
      },
      "source": [
        "X=data.iloc[:,0:-1]\n",
        "y=data.iloc[:,-1]"
      ],
      "execution_count": 0,
      "outputs": []
    },
    {
      "cell_type": "code",
      "metadata": {
        "id": "R1jpQj5rI5e2",
        "colab_type": "code",
        "colab": {}
      },
      "source": [
        "from deap import creator, base, tools, algorithms\n",
        "import random\n",
        "import numpy as np\n",
        "from deap import tools\n",
        "import pandas as pd\n",
        "from sklearn.model_selection import cross_val_score\n",
        "import matplotlib.pyplot as plt\n",
        "\n",
        "class FeatureSelectionGA:\n",
        "\n",
        "    def __init__(self, model, x, y, cv_split=5, n_pop=15, n_gen=10):\n",
        "      \n",
        "        self.model = model\n",
        "        self.n_features = x.shape[1]\n",
        "        self.cv_split = cv_split\n",
        "        self.x = x\n",
        "        self.y = y\n",
        "        self.n_pop = n_pop\n",
        "        self.n_gen = n_gen\n",
        "        print(\"The number of Features: {}\".format(self.n_features))\n",
        "        print(\"The Shape of Training Data is : {} and Target Data is : {}\".format(self.x.shape, self.y.shape))\n",
        "\n",
        "        individual = [1 for i in range(x.shape[1])]\n",
        "        print(\"Accuracy For All the features: \" + str(self.fitness_test(individual)) + \"\\n\")\n",
        "\n",
        "        # Applying Genetic Algorithm\n",
        "        eg = self.evolutionary_algorithm()\n",
        "        hof=eg[0]\n",
        "        log=eg[1]\n",
        "        plt.plot(log.select(\"gen\"),log.select(\"avg\"))\n",
        "        plt.title('Support Vector Machine Classifier',fontsize=12)\n",
        "        plt.xlabel('generation',fontsize=12)\n",
        "        plt.ylabel('accuracy',fontsize=12)\n",
        "        plt.savefig('SVM.png')\n",
        "        #plt.imshow()\n",
        "        accuracy, individual, header = self.bestIndividual(hof)\n",
        "        print('Best Accuracy: \\t' + str(accuracy[0]))\n",
        "        print('Number of Features in Subset: \\t' + str(individual.count(1)))\n",
        "        print('Feature Subset: ' + str(header)+'\\n')\n",
        "        #print('\\n\\nKindly Create a New Classifier with the Above Feature Set')\n",
        "\n",
        "\n",
        "\n",
        "\n",
        "    def fitness_test(self, individual):\n",
        "        \"\"\"\n",
        "        The Function Analyses Provides the average Cross Val Score Using All the Features\n",
        "        :param individual:\n",
        "        :return: Average Cross Val Score\n",
        "        \"\"\"\n",
        "        alpha=0.01 #ranges from 0 to 1\n",
        "        if (individual.count(0) != len(individual)):\n",
        "            # Fetched the Index of the Individual\n",
        "            cols = [index for index in range(len(individual)) if individual[index] == 0]\n",
        "\n",
        "            # Fetching Feature Subset\n",
        "            X_parsed = self.x.drop(self.x.columns[cols], axis=1)\n",
        "            X_subset = pd.get_dummies(X_parsed)\n",
        "\n",
        "            # Applying the Classification Algorithm\n",
        "            classifier = self.model\n",
        "            cross_v=cross_val_score(classifier, X_subset, self.y, cv=self.cv_split)\n",
        "            acc=((sum(cross_v) / float(len(cross_v))),0)\n",
        "            #return acc            \n",
        "            return (alpha*(1.0 - acc[0]) + (1.0 - alpha)*(1.0 - (X_subset.shape[1])/10),0)#10 is total feature\n",
        "        else:\n",
        "            return (0,)\n",
        "\n",
        "    def evolutionary_algorithm(self):\n",
        "        \"\"\"\n",
        "        Declaring Global Variables for DEAP\n",
        "        :return:\n",
        "        \"\"\"\n",
        "        # Creating the Individual Using DEAP\n",
        "        creator.create(\"FitnessMax\", base.Fitness, weights=(1.0,))\n",
        "        creator.create(\"Individual\", list, fitness=creator.FitnessMax)\n",
        "\n",
        "        # Creating ToolBox For The DEAP Framework\n",
        "        toolbox = base.Toolbox()\n",
        "        toolbox.register(\"attr_bool\", random.randint, 0, 1)\n",
        "        toolbox.register(\"individual\", tools.initRepeat, creator.Individual, toolbox.attr_bool, self.n_features) #initialization\n",
        "        toolbox.register(\"population\", tools.initRepeat, list, toolbox.individual) #initialization\n",
        "        toolbox.register(\"evaluate\", self.fitness_test) #fitness function\n",
        "        toolbox.register(\"mate\", tools.cxTwoPoint)#crossover\n",
        "        toolbox.register(\"mutate\", tools.mutFlipBit, indpb=0.05) #mutation \n",
        "        toolbox.register(\"select\", tools.selTournament, tournsize=5) #selection \n",
        "\n",
        "        # Initialize Parameters\n",
        "        pop = toolbox.population(n=self.n_pop)\n",
        "        hof = tools.HallOfFame(self.n_pop * self.n_gen)#  best individual that ever lived in the population during the evolution.\n",
        "        stats = tools.Statistics(lambda ind: ind.fitness.values)\n",
        "        stats.register(\"avg\", np.mean) #avg score from fitness function\n",
        "        stats.register(\"min\", np.min)  #min score from fitness function\n",
        "        stats.register(\"max\", np.max)  #max score from fitness function\n",
        "\n",
        "        # Genetic Algorithm\n",
        "        pop, log = algorithms.eaSimple(pop, toolbox, cxpb=0.5, mutpb=0.3, ngen=self.n_gen, stats=stats, halloffame=hof,verbose=True)\n",
        "\n",
        "        # Return Fall Of Home\n",
        "        return hof,log\n",
        "\n",
        "    def bestIndividual(self, hof):\n",
        "        \"\"\"\n",
        "        Get the best individual\n",
        "        \"\"\"\n",
        "        maxAccurcy = 0.0\n",
        "        for individual in hof:\n",
        "            if (individual.fitness.values[0] > maxAccurcy):\n",
        "                maxAccurcy = individual.fitness.values[0]\n",
        "                _individual = individual\n",
        "\n",
        "        _individualHeader = [list(self.x)[i] for i in range(len(_individual)) if _individual[i] == 1]\n",
        "        return _individual.fitness.values, _individual, _individualHeader"
      ],
      "execution_count": 0,
      "outputs": []
    },
    {
      "cell_type": "code",
      "metadata": {
        "id": "mJGpN62n7tPm",
        "colab_type": "code",
        "colab": {
          "base_uri": "https://localhost:8080/",
          "height": 34
        },
        "outputId": "0d7703cb-4e84-49c1-bc91-b05990ffbdbb"
      },
      "source": [
        "est = SVC()\n",
        "score =  cross_val_score(est, X, y, cv=5)\n",
        "print(\"Without GSA: {:.2f}\".format(np.mean(score)))"
      ],
      "execution_count": 8,
      "outputs": [
        {
          "output_type": "stream",
          "text": [
            "Without GSA: 0.63\n"
          ],
          "name": "stdout"
        }
      ]
    },
    {
      "cell_type": "code",
      "metadata": {
        "id": "VLUtqy9x7vcM",
        "colab_type": "code",
        "colab": {
          "base_uri": "https://localhost:8080/",
          "height": 903
        },
        "outputId": "1d3ee928-42b4-4759-fa7c-19979c077936"
      },
      "source": [
        "FeatureSelectionGA(est,X,y,n_gen=25)"
      ],
      "execution_count": 9,
      "outputs": [
        {
          "output_type": "stream",
          "text": [
            "The number of Features: 19\n",
            "The Shape of Training Data is : (62, 19) and Target Data is : (62,)\n",
            "Accuracy For All the features: (-0.8872820512820512, 0)\n",
            "\n",
            "gen\tnevals\tavg      \tmin      \tmax     \n",
            "0  \t15    \t0.0631701\t-0.392282\t0.399731\n",
            "1  \t9     \t0.241352 \t0.00324359\t0.498577\n",
            "2  \t6     \t0.432599 \t0.300538  \t0.597731\n",
            "3  \t7     \t0.518484 \t0.399577  \t0.597731\n",
            "4  \t8     \t0.571388 \t0.498731  \t0.597731\n",
            "5  \t13    \t0.597731 \t0.597731  \t0.597731\n",
            "6  \t7     \t0.584529 \t0.39941   \t0.598026\n",
            "7  \t9     \t0.591168 \t0.49841   \t0.598026\n",
            "8  \t8     \t0.591367 \t0.499026  \t0.598026\n",
            "9  \t8     \t0.558426 \t0.202026  \t0.598026\n",
            "10 \t11    \t0.578226 \t0.400026  \t0.598026\n",
            "11 \t12    \t0.597996 \t0.499026  \t0.697026\n",
            "12 \t10    \t0.637545 \t0.499026  \t0.795564\n",
            "13 \t8     \t0.703505 \t0.598026  \t0.796026\n",
            "14 \t10    \t0.7364   \t0.598026  \t0.796026\n",
            "15 \t7     \t0.775919 \t0.696564  \t0.796026\n",
            "16 \t9     \t0.776029 \t0.597564  \t0.894846\n",
            "17 \t10    \t0.822354 \t0.697026  \t0.894846\n",
            "18 \t10    \t0.861831 \t0.696385  \t0.894846\n",
            "19 \t9     \t0.835435 \t0.696577  \t0.894846\n",
            "20 \t7     \t0.855212 \t0.597718  \t0.894846\n",
            "21 \t11    \t0.881637 \t0.696705  \t0.894846\n",
            "22 \t10    \t0.868442 \t0.696872  \t0.894846\n",
            "23 \t12    \t0.835461 \t0.696718  \t0.894846\n",
            "24 \t7     \t0.868456 \t0.696577  \t0.894846\n",
            "25 \t12    \t0.861738 \t0.696231  \t0.894872\n",
            "Best Accuracy: \t0.8948717948717949\n",
            "Number of Features in Subset: \t1\n",
            "Feature Subset: ['HRV triangular index']\n",
            "\n"
          ],
          "name": "stdout"
        },
        {
          "output_type": "execute_result",
          "data": {
            "text/plain": [
              "<__main__.FeatureSelectionGA at 0x7f83d6f795c0>"
            ]
          },
          "metadata": {
            "tags": []
          },
          "execution_count": 9
        },
        {
          "output_type": "display_data",
          "data": {
            "image/png": "[encoded data removed]",
            "text/plain": [
              "<Figure size 432x288 with 1 Axes>"
            ]
          },
          "metadata": {
            "tags": [],
            "needs_background": "light"
          }
        }
      ]
    },
    {
      "cell_type": "code",
      "metadata": {
        "id": "C0ty6ZPY7xQ2",
        "colab_type": "code",
        "colab": {}
      },
      "source": [
        ""
      ],
      "execution_count": 0,
      "outputs": []
    }
  ]
}