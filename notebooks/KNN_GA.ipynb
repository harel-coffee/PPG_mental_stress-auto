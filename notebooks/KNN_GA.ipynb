{
 "cells": [
  {
   "cell_type": "markdown",
   "metadata": {},
   "source": [
    "### import  basic libraries"
   ]
  },
  {
   "cell_type": "code",
   "execution_count": 1,
   "metadata": {},
   "outputs": [],
   "source": [
    "import pandas as pd\n",
    "import numpy as np\n",
    "import matplotlib.pyplot as plt\n",
    "from glob import glob\n",
    "from nolds import *\n",
    "import statistics as st\n"
   ]
  },
  {
   "cell_type": "markdown",
   "metadata": {},
   "source": [
    "### read file"
   ]
  },
  {
   "cell_type": "code",
   "execution_count": 2,
   "metadata": {},
   "outputs": [],
   "source": [
    "normal=[]\n",
    "for i in glob('D:/Datasets/signal/fyp/before/*.csv'):\n",
    "    file=pd.read_csv(i,usecols=[' IBI'],squeeze=True)[10:-10].dropna()\n",
    "    file=file.loc[file.shift() != file].reset_index(drop=True).values\n",
    "    normal.append(file)\n",
    "    \n",
    "stress=[]\n",
    "for i in glob('D:/Datasets/signal/fyp/after/*.csv'):\n",
    "    file=pd.read_csv(i,usecols=[' IBI'],squeeze=True)[10:-10].dropna() \n",
    "    file=file.loc[file.shift() != file].values #remove consective reduntdant value\n",
    "    stress.append(file)\n",
    "    "
   ]
  },
  {
   "cell_type": "code",
   "execution_count": 3,
   "metadata": {},
   "outputs": [
    {
     "data": {
      "text/plain": [
       "(27, 27)"
      ]
     },
     "execution_count": 3,
     "metadata": {},
     "output_type": "execute_result"
    }
   ],
   "source": [
    "len(normal),len(stress)"
   ]
  },
  {
   "cell_type": "code",
   "execution_count": 4,
   "metadata": {},
   "outputs": [
    {
     "data": {
      "text/plain": [
       "((469,), (532,))"
      ]
     },
     "execution_count": 4,
     "metadata": {},
     "output_type": "execute_result"
    }
   ],
   "source": [
    "normal[0].shape,stress[0].shape"
   ]
  },
  {
   "cell_type": "code",
   "execution_count": 5,
   "metadata": {},
   "outputs": [],
   "source": [
    "normal_df=pd.DataFrame(normal)\n",
    "stress_df=pd.DataFrame(stress)\n",
    "y_normal=[0]*len(normal_df)\n",
    "y_stress=[1]*len(stress_df)\n",
    "y=pd.concat((pd.DataFrame(y_normal),pd.DataFrame(y_stress)),axis=0)\n",
    "df=pd.concat((normal_df,stress_df),axis=0)\n",
    "file=pd.concat((y,df),axis=1)    "
   ]
  },
  {
   "cell_type": "code",
   "execution_count": null,
   "metadata": {},
   "outputs": [],
   "source": []
  },
  {
   "cell_type": "markdown",
   "metadata": {},
   "source": [
    "#### print first five and last 5 rows of file"
   ]
  },
  {
   "cell_type": "code",
   "execution_count": 6,
   "metadata": {},
   "outputs": [
    {
     "data": {
      "text/html": [
       "<div>\n",
       "<style scoped>\n",
       "    .dataframe tbody tr th:only-of-type {\n",
       "        vertical-align: middle;\n",
       "    }\n",
       "\n",
       "    .dataframe tbody tr th {\n",
       "        vertical-align: top;\n",
       "    }\n",
       "\n",
       "    .dataframe thead th {\n",
       "        text-align: right;\n",
       "    }\n",
       "</style>\n",
       "<table border=\"1\" class=\"dataframe\">\n",
       "  <thead>\n",
       "    <tr style=\"text-align: right;\">\n",
       "      <th></th>\n",
       "      <th>0</th>\n",
       "      <th>0</th>\n",
       "      <th>1</th>\n",
       "      <th>2</th>\n",
       "      <th>3</th>\n",
       "      <th>4</th>\n",
       "      <th>5</th>\n",
       "      <th>6</th>\n",
       "      <th>7</th>\n",
       "      <th>8</th>\n",
       "      <th>...</th>\n",
       "      <th>672</th>\n",
       "      <th>673</th>\n",
       "      <th>674</th>\n",
       "      <th>675</th>\n",
       "      <th>676</th>\n",
       "      <th>677</th>\n",
       "      <th>678</th>\n",
       "      <th>679</th>\n",
       "      <th>680</th>\n",
       "      <th>681</th>\n",
       "    </tr>\n",
       "  </thead>\n",
       "  <tbody>\n",
       "    <tr>\n",
       "      <th>0</th>\n",
       "      <td>0</td>\n",
       "      <td>640.0</td>\n",
       "      <td>636.0</td>\n",
       "      <td>630.0</td>\n",
       "      <td>656.0</td>\n",
       "      <td>670.0</td>\n",
       "      <td>644.0</td>\n",
       "      <td>660.0</td>\n",
       "      <td>608.0</td>\n",
       "      <td>618.0</td>\n",
       "      <td>...</td>\n",
       "      <td>NaN</td>\n",
       "      <td>NaN</td>\n",
       "      <td>NaN</td>\n",
       "      <td>NaN</td>\n",
       "      <td>NaN</td>\n",
       "      <td>NaN</td>\n",
       "      <td>NaN</td>\n",
       "      <td>NaN</td>\n",
       "      <td>NaN</td>\n",
       "      <td>NaN</td>\n",
       "    </tr>\n",
       "    <tr>\n",
       "      <th>1</th>\n",
       "      <td>0</td>\n",
       "      <td>762.0</td>\n",
       "      <td>806.0</td>\n",
       "      <td>820.0</td>\n",
       "      <td>798.0</td>\n",
       "      <td>820.0</td>\n",
       "      <td>848.0</td>\n",
       "      <td>792.0</td>\n",
       "      <td>802.0</td>\n",
       "      <td>824.0</td>\n",
       "      <td>...</td>\n",
       "      <td>NaN</td>\n",
       "      <td>NaN</td>\n",
       "      <td>NaN</td>\n",
       "      <td>NaN</td>\n",
       "      <td>NaN</td>\n",
       "      <td>NaN</td>\n",
       "      <td>NaN</td>\n",
       "      <td>NaN</td>\n",
       "      <td>NaN</td>\n",
       "      <td>NaN</td>\n",
       "    </tr>\n",
       "    <tr>\n",
       "      <th>2</th>\n",
       "      <td>0</td>\n",
       "      <td>286.0</td>\n",
       "      <td>544.0</td>\n",
       "      <td>326.0</td>\n",
       "      <td>548.0</td>\n",
       "      <td>892.0</td>\n",
       "      <td>862.0</td>\n",
       "      <td>806.0</td>\n",
       "      <td>840.0</td>\n",
       "      <td>864.0</td>\n",
       "      <td>...</td>\n",
       "      <td>NaN</td>\n",
       "      <td>NaN</td>\n",
       "      <td>NaN</td>\n",
       "      <td>NaN</td>\n",
       "      <td>NaN</td>\n",
       "      <td>NaN</td>\n",
       "      <td>NaN</td>\n",
       "      <td>NaN</td>\n",
       "      <td>NaN</td>\n",
       "      <td>NaN</td>\n",
       "    </tr>\n",
       "    <tr>\n",
       "      <th>3</th>\n",
       "      <td>0</td>\n",
       "      <td>588.0</td>\n",
       "      <td>586.0</td>\n",
       "      <td>584.0</td>\n",
       "      <td>600.0</td>\n",
       "      <td>604.0</td>\n",
       "      <td>650.0</td>\n",
       "      <td>652.0</td>\n",
       "      <td>622.0</td>\n",
       "      <td>616.0</td>\n",
       "      <td>...</td>\n",
       "      <td>NaN</td>\n",
       "      <td>NaN</td>\n",
       "      <td>NaN</td>\n",
       "      <td>NaN</td>\n",
       "      <td>NaN</td>\n",
       "      <td>NaN</td>\n",
       "      <td>NaN</td>\n",
       "      <td>NaN</td>\n",
       "      <td>NaN</td>\n",
       "      <td>NaN</td>\n",
       "    </tr>\n",
       "    <tr>\n",
       "      <th>4</th>\n",
       "      <td>0</td>\n",
       "      <td>792.0</td>\n",
       "      <td>884.0</td>\n",
       "      <td>786.0</td>\n",
       "      <td>694.0</td>\n",
       "      <td>680.0</td>\n",
       "      <td>820.0</td>\n",
       "      <td>746.0</td>\n",
       "      <td>668.0</td>\n",
       "      <td>836.0</td>\n",
       "      <td>...</td>\n",
       "      <td>NaN</td>\n",
       "      <td>NaN</td>\n",
       "      <td>NaN</td>\n",
       "      <td>NaN</td>\n",
       "      <td>NaN</td>\n",
       "      <td>NaN</td>\n",
       "      <td>NaN</td>\n",
       "      <td>NaN</td>\n",
       "      <td>NaN</td>\n",
       "      <td>NaN</td>\n",
       "    </tr>\n",
       "  </tbody>\n",
       "</table>\n",
       "<p>5 rows × 683 columns</p>\n",
       "</div>"
      ],
      "text/plain": [
       "   0      0      1      2      3      4      5      6      7      8    ...  \\\n",
       "0    0  640.0  636.0  630.0  656.0  670.0  644.0  660.0  608.0  618.0  ...   \n",
       "1    0  762.0  806.0  820.0  798.0  820.0  848.0  792.0  802.0  824.0  ...   \n",
       "2    0  286.0  544.0  326.0  548.0  892.0  862.0  806.0  840.0  864.0  ...   \n",
       "3    0  588.0  586.0  584.0  600.0  604.0  650.0  652.0  622.0  616.0  ...   \n",
       "4    0  792.0  884.0  786.0  694.0  680.0  820.0  746.0  668.0  836.0  ...   \n",
       "\n",
       "   672  673  674  675  676  677  678  679  680  681  \n",
       "0  NaN  NaN  NaN  NaN  NaN  NaN  NaN  NaN  NaN  NaN  \n",
       "1  NaN  NaN  NaN  NaN  NaN  NaN  NaN  NaN  NaN  NaN  \n",
       "2  NaN  NaN  NaN  NaN  NaN  NaN  NaN  NaN  NaN  NaN  \n",
       "3  NaN  NaN  NaN  NaN  NaN  NaN  NaN  NaN  NaN  NaN  \n",
       "4  NaN  NaN  NaN  NaN  NaN  NaN  NaN  NaN  NaN  NaN  \n",
       "\n",
       "[5 rows x 683 columns]"
      ]
     },
     "execution_count": 6,
     "metadata": {},
     "output_type": "execute_result"
    }
   ],
   "source": [
    "file.head()"
   ]
  },
  {
   "cell_type": "markdown",
   "metadata": {},
   "source": [
    "### seprate data and labels. the first column correponds to label"
   ]
  },
  {
   "cell_type": "code",
   "execution_count": 7,
   "metadata": {},
   "outputs": [],
   "source": [
    "data=file.iloc[:,1::]\n",
    "labels=file.iloc[:,0]"
   ]
  },
  {
   "cell_type": "markdown",
   "metadata": {},
   "source": [
    "#### print first five and last 5 rows of data and labels"
   ]
  },
  {
   "cell_type": "code",
   "execution_count": 8,
   "metadata": {},
   "outputs": [
    {
     "data": {
      "text/html": [
       "<div>\n",
       "<style scoped>\n",
       "    .dataframe tbody tr th:only-of-type {\n",
       "        vertical-align: middle;\n",
       "    }\n",
       "\n",
       "    .dataframe tbody tr th {\n",
       "        vertical-align: top;\n",
       "    }\n",
       "\n",
       "    .dataframe thead th {\n",
       "        text-align: right;\n",
       "    }\n",
       "</style>\n",
       "<table border=\"1\" class=\"dataframe\">\n",
       "  <thead>\n",
       "    <tr style=\"text-align: right;\">\n",
       "      <th></th>\n",
       "      <th>0</th>\n",
       "      <th>1</th>\n",
       "      <th>2</th>\n",
       "      <th>3</th>\n",
       "      <th>4</th>\n",
       "      <th>5</th>\n",
       "      <th>6</th>\n",
       "      <th>7</th>\n",
       "      <th>8</th>\n",
       "      <th>9</th>\n",
       "      <th>...</th>\n",
       "      <th>672</th>\n",
       "      <th>673</th>\n",
       "      <th>674</th>\n",
       "      <th>675</th>\n",
       "      <th>676</th>\n",
       "      <th>677</th>\n",
       "      <th>678</th>\n",
       "      <th>679</th>\n",
       "      <th>680</th>\n",
       "      <th>681</th>\n",
       "    </tr>\n",
       "  </thead>\n",
       "  <tbody>\n",
       "    <tr>\n",
       "      <th>0</th>\n",
       "      <td>640.0</td>\n",
       "      <td>636.0</td>\n",
       "      <td>630.0</td>\n",
       "      <td>656.0</td>\n",
       "      <td>670.0</td>\n",
       "      <td>644.0</td>\n",
       "      <td>660.0</td>\n",
       "      <td>608.0</td>\n",
       "      <td>618.0</td>\n",
       "      <td>648.0</td>\n",
       "      <td>...</td>\n",
       "      <td>NaN</td>\n",
       "      <td>NaN</td>\n",
       "      <td>NaN</td>\n",
       "      <td>NaN</td>\n",
       "      <td>NaN</td>\n",
       "      <td>NaN</td>\n",
       "      <td>NaN</td>\n",
       "      <td>NaN</td>\n",
       "      <td>NaN</td>\n",
       "      <td>NaN</td>\n",
       "    </tr>\n",
       "    <tr>\n",
       "      <th>1</th>\n",
       "      <td>762.0</td>\n",
       "      <td>806.0</td>\n",
       "      <td>820.0</td>\n",
       "      <td>798.0</td>\n",
       "      <td>820.0</td>\n",
       "      <td>848.0</td>\n",
       "      <td>792.0</td>\n",
       "      <td>802.0</td>\n",
       "      <td>824.0</td>\n",
       "      <td>800.0</td>\n",
       "      <td>...</td>\n",
       "      <td>NaN</td>\n",
       "      <td>NaN</td>\n",
       "      <td>NaN</td>\n",
       "      <td>NaN</td>\n",
       "      <td>NaN</td>\n",
       "      <td>NaN</td>\n",
       "      <td>NaN</td>\n",
       "      <td>NaN</td>\n",
       "      <td>NaN</td>\n",
       "      <td>NaN</td>\n",
       "    </tr>\n",
       "    <tr>\n",
       "      <th>2</th>\n",
       "      <td>286.0</td>\n",
       "      <td>544.0</td>\n",
       "      <td>326.0</td>\n",
       "      <td>548.0</td>\n",
       "      <td>892.0</td>\n",
       "      <td>862.0</td>\n",
       "      <td>806.0</td>\n",
       "      <td>840.0</td>\n",
       "      <td>864.0</td>\n",
       "      <td>868.0</td>\n",
       "      <td>...</td>\n",
       "      <td>NaN</td>\n",
       "      <td>NaN</td>\n",
       "      <td>NaN</td>\n",
       "      <td>NaN</td>\n",
       "      <td>NaN</td>\n",
       "      <td>NaN</td>\n",
       "      <td>NaN</td>\n",
       "      <td>NaN</td>\n",
       "      <td>NaN</td>\n",
       "      <td>NaN</td>\n",
       "    </tr>\n",
       "    <tr>\n",
       "      <th>3</th>\n",
       "      <td>588.0</td>\n",
       "      <td>586.0</td>\n",
       "      <td>584.0</td>\n",
       "      <td>600.0</td>\n",
       "      <td>604.0</td>\n",
       "      <td>650.0</td>\n",
       "      <td>652.0</td>\n",
       "      <td>622.0</td>\n",
       "      <td>616.0</td>\n",
       "      <td>628.0</td>\n",
       "      <td>...</td>\n",
       "      <td>NaN</td>\n",
       "      <td>NaN</td>\n",
       "      <td>NaN</td>\n",
       "      <td>NaN</td>\n",
       "      <td>NaN</td>\n",
       "      <td>NaN</td>\n",
       "      <td>NaN</td>\n",
       "      <td>NaN</td>\n",
       "      <td>NaN</td>\n",
       "      <td>NaN</td>\n",
       "    </tr>\n",
       "    <tr>\n",
       "      <th>4</th>\n",
       "      <td>792.0</td>\n",
       "      <td>884.0</td>\n",
       "      <td>786.0</td>\n",
       "      <td>694.0</td>\n",
       "      <td>680.0</td>\n",
       "      <td>820.0</td>\n",
       "      <td>746.0</td>\n",
       "      <td>668.0</td>\n",
       "      <td>836.0</td>\n",
       "      <td>934.0</td>\n",
       "      <td>...</td>\n",
       "      <td>NaN</td>\n",
       "      <td>NaN</td>\n",
       "      <td>NaN</td>\n",
       "      <td>NaN</td>\n",
       "      <td>NaN</td>\n",
       "      <td>NaN</td>\n",
       "      <td>NaN</td>\n",
       "      <td>NaN</td>\n",
       "      <td>NaN</td>\n",
       "      <td>NaN</td>\n",
       "    </tr>\n",
       "  </tbody>\n",
       "</table>\n",
       "<p>5 rows × 682 columns</p>\n",
       "</div>"
      ],
      "text/plain": [
       "     0      1      2      3      4      5      6      7      8      9    ...  \\\n",
       "0  640.0  636.0  630.0  656.0  670.0  644.0  660.0  608.0  618.0  648.0  ...   \n",
       "1  762.0  806.0  820.0  798.0  820.0  848.0  792.0  802.0  824.0  800.0  ...   \n",
       "2  286.0  544.0  326.0  548.0  892.0  862.0  806.0  840.0  864.0  868.0  ...   \n",
       "3  588.0  586.0  584.0  600.0  604.0  650.0  652.0  622.0  616.0  628.0  ...   \n",
       "4  792.0  884.0  786.0  694.0  680.0  820.0  746.0  668.0  836.0  934.0  ...   \n",
       "\n",
       "   672  673  674  675  676  677  678  679  680  681  \n",
       "0  NaN  NaN  NaN  NaN  NaN  NaN  NaN  NaN  NaN  NaN  \n",
       "1  NaN  NaN  NaN  NaN  NaN  NaN  NaN  NaN  NaN  NaN  \n",
       "2  NaN  NaN  NaN  NaN  NaN  NaN  NaN  NaN  NaN  NaN  \n",
       "3  NaN  NaN  NaN  NaN  NaN  NaN  NaN  NaN  NaN  NaN  \n",
       "4  NaN  NaN  NaN  NaN  NaN  NaN  NaN  NaN  NaN  NaN  \n",
       "\n",
       "[5 rows x 682 columns]"
      ]
     },
     "execution_count": 8,
     "metadata": {},
     "output_type": "execute_result"
    }
   ],
   "source": [
    "data.head()"
   ]
  },
  {
   "cell_type": "code",
   "execution_count": 9,
   "metadata": {},
   "outputs": [
    {
     "data": {
      "text/plain": [
       "0    0\n",
       "1    0\n",
       "2    0\n",
       "3    0\n",
       "4    0\n",
       "Name: 0, dtype: int64"
      ]
     },
     "execution_count": 9,
     "metadata": {},
     "output_type": "execute_result"
    }
   ],
   "source": [
    "labels.head()"
   ]
  },
  {
   "cell_type": "markdown",
   "metadata": {},
   "source": [
    "### Remove missing values columns\n",
    "remove columns having missing/NaN values. Hint use pandas dropna. check dropna attributes:\n",
    "how,inplace,axis"
   ]
  },
  {
   "cell_type": "code",
   "execution_count": 10,
   "metadata": {},
   "outputs": [],
   "source": [
    "data.dropna(how='any',inplace=True,axis=1)"
   ]
  },
  {
   "cell_type": "code",
   "execution_count": 11,
   "metadata": {},
   "outputs": [
    {
     "data": {
      "text/html": [
       "<div>\n",
       "<style scoped>\n",
       "    .dataframe tbody tr th:only-of-type {\n",
       "        vertical-align: middle;\n",
       "    }\n",
       "\n",
       "    .dataframe tbody tr th {\n",
       "        vertical-align: top;\n",
       "    }\n",
       "\n",
       "    .dataframe thead th {\n",
       "        text-align: right;\n",
       "    }\n",
       "</style>\n",
       "<table border=\"1\" class=\"dataframe\">\n",
       "  <thead>\n",
       "    <tr style=\"text-align: right;\">\n",
       "      <th></th>\n",
       "      <th>0</th>\n",
       "      <th>1</th>\n",
       "      <th>2</th>\n",
       "      <th>3</th>\n",
       "      <th>4</th>\n",
       "      <th>5</th>\n",
       "      <th>6</th>\n",
       "      <th>7</th>\n",
       "      <th>8</th>\n",
       "      <th>9</th>\n",
       "      <th>...</th>\n",
       "      <th>327</th>\n",
       "      <th>328</th>\n",
       "      <th>329</th>\n",
       "      <th>330</th>\n",
       "      <th>331</th>\n",
       "      <th>332</th>\n",
       "      <th>333</th>\n",
       "      <th>334</th>\n",
       "      <th>335</th>\n",
       "      <th>336</th>\n",
       "    </tr>\n",
       "  </thead>\n",
       "  <tbody>\n",
       "    <tr>\n",
       "      <th>0</th>\n",
       "      <td>640.0</td>\n",
       "      <td>636.0</td>\n",
       "      <td>630.0</td>\n",
       "      <td>656.0</td>\n",
       "      <td>670.0</td>\n",
       "      <td>644.0</td>\n",
       "      <td>660.0</td>\n",
       "      <td>608.0</td>\n",
       "      <td>618.0</td>\n",
       "      <td>648.0</td>\n",
       "      <td>...</td>\n",
       "      <td>738.0</td>\n",
       "      <td>746.0</td>\n",
       "      <td>710.0</td>\n",
       "      <td>666.0</td>\n",
       "      <td>692.0</td>\n",
       "      <td>694.0</td>\n",
       "      <td>712.0</td>\n",
       "      <td>688.0</td>\n",
       "      <td>686.0</td>\n",
       "      <td>724.0</td>\n",
       "    </tr>\n",
       "    <tr>\n",
       "      <th>1</th>\n",
       "      <td>762.0</td>\n",
       "      <td>806.0</td>\n",
       "      <td>820.0</td>\n",
       "      <td>798.0</td>\n",
       "      <td>820.0</td>\n",
       "      <td>848.0</td>\n",
       "      <td>792.0</td>\n",
       "      <td>802.0</td>\n",
       "      <td>824.0</td>\n",
       "      <td>800.0</td>\n",
       "      <td>...</td>\n",
       "      <td>840.0</td>\n",
       "      <td>826.0</td>\n",
       "      <td>822.0</td>\n",
       "      <td>814.0</td>\n",
       "      <td>794.0</td>\n",
       "      <td>748.0</td>\n",
       "      <td>718.0</td>\n",
       "      <td>714.0</td>\n",
       "      <td>750.0</td>\n",
       "      <td>812.0</td>\n",
       "    </tr>\n",
       "    <tr>\n",
       "      <th>2</th>\n",
       "      <td>286.0</td>\n",
       "      <td>544.0</td>\n",
       "      <td>326.0</td>\n",
       "      <td>548.0</td>\n",
       "      <td>892.0</td>\n",
       "      <td>862.0</td>\n",
       "      <td>806.0</td>\n",
       "      <td>840.0</td>\n",
       "      <td>864.0</td>\n",
       "      <td>868.0</td>\n",
       "      <td>...</td>\n",
       "      <td>812.0</td>\n",
       "      <td>826.0</td>\n",
       "      <td>870.0</td>\n",
       "      <td>802.0</td>\n",
       "      <td>832.0</td>\n",
       "      <td>862.0</td>\n",
       "      <td>750.0</td>\n",
       "      <td>828.0</td>\n",
       "      <td>890.0</td>\n",
       "      <td>868.0</td>\n",
       "    </tr>\n",
       "    <tr>\n",
       "      <th>3</th>\n",
       "      <td>588.0</td>\n",
       "      <td>586.0</td>\n",
       "      <td>584.0</td>\n",
       "      <td>600.0</td>\n",
       "      <td>604.0</td>\n",
       "      <td>650.0</td>\n",
       "      <td>652.0</td>\n",
       "      <td>622.0</td>\n",
       "      <td>616.0</td>\n",
       "      <td>628.0</td>\n",
       "      <td>...</td>\n",
       "      <td>636.0</td>\n",
       "      <td>644.0</td>\n",
       "      <td>646.0</td>\n",
       "      <td>638.0</td>\n",
       "      <td>628.0</td>\n",
       "      <td>646.0</td>\n",
       "      <td>670.0</td>\n",
       "      <td>680.0</td>\n",
       "      <td>658.0</td>\n",
       "      <td>648.0</td>\n",
       "    </tr>\n",
       "    <tr>\n",
       "      <th>4</th>\n",
       "      <td>792.0</td>\n",
       "      <td>884.0</td>\n",
       "      <td>786.0</td>\n",
       "      <td>694.0</td>\n",
       "      <td>680.0</td>\n",
       "      <td>820.0</td>\n",
       "      <td>746.0</td>\n",
       "      <td>668.0</td>\n",
       "      <td>836.0</td>\n",
       "      <td>934.0</td>\n",
       "      <td>...</td>\n",
       "      <td>614.0</td>\n",
       "      <td>596.0</td>\n",
       "      <td>672.0</td>\n",
       "      <td>664.0</td>\n",
       "      <td>642.0</td>\n",
       "      <td>644.0</td>\n",
       "      <td>742.0</td>\n",
       "      <td>752.0</td>\n",
       "      <td>688.0</td>\n",
       "      <td>692.0</td>\n",
       "    </tr>\n",
       "  </tbody>\n",
       "</table>\n",
       "<p>5 rows × 337 columns</p>\n",
       "</div>"
      ],
      "text/plain": [
       "     0      1      2      3      4      5      6      7      8      9    ...  \\\n",
       "0  640.0  636.0  630.0  656.0  670.0  644.0  660.0  608.0  618.0  648.0  ...   \n",
       "1  762.0  806.0  820.0  798.0  820.0  848.0  792.0  802.0  824.0  800.0  ...   \n",
       "2  286.0  544.0  326.0  548.0  892.0  862.0  806.0  840.0  864.0  868.0  ...   \n",
       "3  588.0  586.0  584.0  600.0  604.0  650.0  652.0  622.0  616.0  628.0  ...   \n",
       "4  792.0  884.0  786.0  694.0  680.0  820.0  746.0  668.0  836.0  934.0  ...   \n",
       "\n",
       "     327    328    329    330    331    332    333    334    335    336  \n",
       "0  738.0  746.0  710.0  666.0  692.0  694.0  712.0  688.0  686.0  724.0  \n",
       "1  840.0  826.0  822.0  814.0  794.0  748.0  718.0  714.0  750.0  812.0  \n",
       "2  812.0  826.0  870.0  802.0  832.0  862.0  750.0  828.0  890.0  868.0  \n",
       "3  636.0  644.0  646.0  638.0  628.0  646.0  670.0  680.0  658.0  648.0  \n",
       "4  614.0  596.0  672.0  664.0  642.0  644.0  742.0  752.0  688.0  692.0  \n",
       "\n",
       "[5 rows x 337 columns]"
      ]
     },
     "execution_count": 11,
     "metadata": {},
     "output_type": "execute_result"
    }
   ],
   "source": [
    "data.head()"
   ]
  },
  {
   "cell_type": "code",
   "execution_count": 12,
   "metadata": {},
   "outputs": [
    {
     "data": {
      "text/plain": [
       "(54, 337)"
      ]
     },
     "execution_count": 12,
     "metadata": {},
     "output_type": "execute_result"
    }
   ],
   "source": [
    "data.shape"
   ]
  },
  {
   "cell_type": "markdown",
   "metadata": {},
   "source": [
    "### Plot the data \n"
   ]
  },
  {
   "cell_type": "code",
   "execution_count": 13,
   "metadata": {},
   "outputs": [
    {
     "data": {
      "text/plain": [
       "26    0\n",
       "26    1\n",
       "Name: 0, dtype: int64"
      ]
     },
     "execution_count": 13,
     "metadata": {},
     "output_type": "execute_result"
    }
   ],
   "source": [
    "labels[26]"
   ]
  },
  {
   "cell_type": "code",
   "execution_count": 14,
   "metadata": {},
   "outputs": [
    {
     "data": {
      "text/plain": [
       "<matplotlib.legend.Legend at 0x20e84ce71c8>"
      ]
     },
     "execution_count": 14,
     "metadata": {},
     "output_type": "execute_result"
    },
    {
     "data": {
      "image/png": "[encoded data removed]",
      "text/plain": [
       "<Figure size 432x288 with 1 Axes>"
      ]
     },
     "metadata": {
      "needs_background": "light"
     },
     "output_type": "display_data"
    }
   ],
   "source": [
    "plt.plot(data.T.iloc[:,0:1],label='Baseline'); #PLOT \n",
    "plt.plot(data.T.iloc[:,27:28],label='Stressed');\n",
    "plt.xlabel('time')\n",
    "plt.ylabel('R-R interval')\n",
    "plt.title('Raw data')\n",
    "plt.legend()"
   ]
  },
  {
   "cell_type": "markdown",
   "metadata": {},
   "source": [
    "### Remove Outliers\n",
    "remove outliers, such as value greater than 1000 and lower than 600. you can either do it using \n",
    "pandas or numpy . you can use a better strategy such as inter quartile range"
   ]
  },
  {
   "cell_type": "code",
   "execution_count": null,
   "metadata": {},
   "outputs": [],
   "source": []
  },
  {
   "cell_type": "code",
   "execution_count": 15,
   "metadata": {},
   "outputs": [],
   "source": [
    "median = data.median()\n",
    "#data=data.values\n",
    "data=np.where((data < median) | (data < median) , median, data)"
   ]
  },
  {
   "cell_type": "code",
   "execution_count": 16,
   "metadata": {},
   "outputs": [],
   "source": [
    "#data=np.where((data.values > 1000) | (data.values<600), np.median(data.values), data.values)"
   ]
  },
  {
   "cell_type": "code",
   "execution_count": 17,
   "metadata": {},
   "outputs": [
    {
     "data": {
      "text/plain": [
       "<matplotlib.legend.Legend at 0x20e85003708>"
      ]
     },
     "execution_count": 17,
     "metadata": {},
     "output_type": "execute_result"
    },
    {
     "data": {
      "image/png": "[encoded data removed]",
      "text/plain": [
       "<Figure size 432x288 with 1 Axes>"
      ]
     },
     "metadata": {
      "needs_background": "light"
     },
     "output_type": "display_data"
    }
   ],
   "source": [
    "plt.plot(data.T[:,0:1],label='Baseline'); #PLOT \n",
    "plt.plot(data.T[:,27:28],label='Stressed');\n",
    "plt.xlabel('time')\n",
    "plt.ylabel('R-R interval')\n",
    "plt.title('Non outliered data')\n",
    "plt.legend()"
   ]
  },
  {
   "cell_type": "markdown",
   "metadata": {},
   "source": [
    "### Apply filter to the data\n",
    "apply any smoothening filter such as Savitzky-Golay filter or moving average filter"
   ]
  },
  {
   "cell_type": "code",
   "execution_count": 18,
   "metadata": {},
   "outputs": [
    {
     "data": {
      "text/plain": [
       "(54, 337)"
      ]
     },
     "execution_count": 18,
     "metadata": {},
     "output_type": "execute_result"
    }
   ],
   "source": [
    "data.shape"
   ]
  },
  {
   "cell_type": "code",
   "execution_count": 19,
   "metadata": {},
   "outputs": [],
   "source": [
    "from scipy.signal import savgol_filter\n",
    "data=savgol_filter(data,5,3)"
   ]
  },
  {
   "cell_type": "code",
   "execution_count": 20,
   "metadata": {},
   "outputs": [
    {
     "data": {
      "text/plain": [
       "<matplotlib.legend.Legend at 0x20e87766a88>"
      ]
     },
     "execution_count": 20,
     "metadata": {},
     "output_type": "execute_result"
    },
    {
     "data": {
      "image/png": "[encoded data removed]",
      "text/plain": [
       "<Figure size 432x288 with 1 Axes>"
      ]
     },
     "metadata": {
      "needs_background": "light"
     },
     "output_type": "display_data"
    }
   ],
   "source": [
    "plt.plot(data.T[:,0:1],label='Baseline'); #PLOT \n",
    "plt.plot(data.T[:,27:28],label='Stressed');\n",
    "plt.xlabel('time')\n",
    "plt.ylabel('R-R interval')\n",
    "plt.title('Savitzky-Golay filte data')\n",
    "plt.legend()"
   ]
  },
  {
   "cell_type": "markdown",
   "metadata": {},
   "source": [
    "## calculate features"
   ]
  },
  {
   "cell_type": "markdown",
   "metadata": {},
   "source": [
    "calculate following features.\n",
    "* mean\n",
    "* median\n",
    "* maximum\n",
    "* variance\n",
    "* standard deviation\n",
    "* maximum\n",
    "* minimum\n",
    "* and the following"
   ]
  },
  {
   "cell_type": "code",
   "execution_count": 21,
   "metadata": {},
   "outputs": [],
   "source": [
    "def ranges(x):\n",
    "    return x.max() - x.min()\n",
    "\n",
    "def rmssd(x):\n",
    "    return np.sqrt(np.mean(np.diff(x) ** 2))\n",
    "def sdsd(x):\n",
    "    return st.stdev(np.diff(x))\n",
    "    \n",
    "def nni_50(x):\n",
    "    return  sum(np.abs(np.diff(x)) > 50)\n",
    "\n",
    "def pnni_50(x):\n",
    "    return 100 * nni_50(x) / len(x)\n",
    "\n",
    "def nni_20(x):\n",
    "    return sum(np.abs(np.diff(x)) > 20)\n",
    "\n",
    "def pnni_20(x):\n",
    "    return  100 * nni_20(x) / len(x)\n",
    "\n",
    "def avg_hr(x):\n",
    "    return  st.mean(60000/x)\n",
    "def std_hr(x):\n",
    "    return  st.stdev(60000/x)\n",
    "def min_hr(x):\n",
    "    return  min(60000/x)\n",
    "def max_hr(x):\n",
    "    return  max(60000/x)\n",
    "\n",
    "def poincare_sd1(rr):\n",
    "    rr_n = rr[:-1]\n",
    "    rr_n1 = rr[1:]\n",
    "    sd1 = np.sqrt(0.5) * np.std(rr_n1 - rr_n)\n",
    "    return sd1\n",
    "def poincare_sd2(rr):\n",
    "    rr_n = rr[:-1]\n",
    "    rr_n1 = rr[1:]\n",
    "    sd2 = np.sqrt(0.5) * np.std(rr_n1 + rr_n)\n",
    "    return sd2\n",
    "def sd_ratio(rr):\n",
    "    return poincare_sd1(rr)/poincare_sd2(rr)\n",
    "\n",
    "def energy(x):\n",
    "    return sum(np.square(x))\n",
    "def abs_sum_diff(x):\n",
    "    return sum(np.abs(np.diff(x)))\n"
   ]
  },
  {
   "cell_type": "code",
   "execution_count": 22,
   "metadata": {},
   "outputs": [],
   "source": [
    "data=pd.DataFrame(data)\n",
    "time_features=data.agg([np.mean,np.var, np.median,np.max,np.min,\n",
    "                   ranges,rmssd,sdsd,nni_50,pnni_50,nni_20,pnni_20,\n",
    "                        avg_hr,std_hr,min_hr,max_hr,\n",
    "                        poincare_sd1,poincare_sd2,sd_ratio,\n",
    "                        dfa,hurst_rs,corr_dim,sampen,\n",
    "                        energy,abs_sum_diff\n",
    "\n",
    "                       ],axis=1)"
   ]
  },
  {
   "cell_type": "code",
   "execution_count": 23,
   "metadata": {},
   "outputs": [
    {
     "data": {
      "text/plain": [
       "(54, 24)"
      ]
     },
     "execution_count": 23,
     "metadata": {},
     "output_type": "execute_result"
    }
   ],
   "source": [
    "time_features.shape"
   ]
  },
  {
   "cell_type": "markdown",
   "metadata": {},
   "source": [
    "## Frequency features"
   ]
  },
  {
   "cell_type": "code",
   "execution_count": 24,
   "metadata": {},
   "outputs": [],
   "source": [
    "from scipy import signal\n",
    "from scipy.ndimage import label\n",
    "from scipy.stats import zscore\n",
    "from scipy.interpolate import interp1d\n",
    "from scipy.integrate import trapz"
   ]
  },
  {
   "cell_type": "code",
   "execution_count": 25,
   "metadata": {},
   "outputs": [
    {
     "data": {
      "text/plain": [
       "((54, 337), 54)"
      ]
     },
     "execution_count": 25,
     "metadata": {},
     "output_type": "execute_result"
    }
   ],
   "source": [
    "data.shape,len(data)"
   ]
  },
  {
   "cell_type": "code",
   "execution_count": 26,
   "metadata": {},
   "outputs": [],
   "source": [
    "rr_interpolated=[]\n",
    "for i in range(len(data)):\n",
    "    rr_manual=data.T[i]\n",
    "    x = np.cumsum(rr_manual) / 1000.0\n",
    "    f = interp1d(x, rr_manual, kind='cubic',fill_value=\"extrapolate\")\n",
    "    fs = 4.0\n",
    "    steps = 1 / fs\n",
    "\n",
    "    # now we can sample from interpolation function\n",
    "    xx = np.arange(1, np.max(x), steps)\n",
    "    rr_interpolated.append(f(xx))\n"
   ]
  },
  {
   "cell_type": "code",
   "execution_count": 27,
   "metadata": {},
   "outputs": [
    {
     "data": {
      "text/plain": [
       "(54, (930,), (928,), (54, 337))"
      ]
     },
     "execution_count": 27,
     "metadata": {},
     "output_type": "execute_result"
    }
   ],
   "source": [
    "len(rr_interpolated),rr_interpolated[0].shape,rr_interpolated[27].shape,data.shape"
   ]
  },
  {
   "cell_type": "code",
   "execution_count": 28,
   "metadata": {},
   "outputs": [
    {
     "data": {
      "text/plain": [
       "<matplotlib.legend.Legend at 0x20e87cb2d88>"
      ]
     },
     "execution_count": 28,
     "metadata": {},
     "output_type": "execute_result"
    },
    {
     "data": {
      "image/png": "[encoded data removed]",
      "text/plain": [
       "<Figure size 432x288 with 1 Axes>"
      ]
     },
     "metadata": {
      "needs_background": "light"
     },
     "output_type": "display_data"
    }
   ],
   "source": [
    "plt.plot(data.iloc[0],label='Non interploated Baseline'); #PLOT \n",
    "plt.plot(rr_interpolated[0],label='interploated Baseline');\n",
    "plt.xlabel('time')\n",
    "plt.ylabel('R-R interval')\n",
    "plt.title('Interpolated data')\n",
    "plt.legend()"
   ]
  },
  {
   "cell_type": "code",
   "execution_count": 29,
   "metadata": {},
   "outputs": [],
   "source": [
    "def frequency_domain(rri, fs=4):\n",
    "    # Estimate the spectral density using Welch's method\n",
    "    fxx, pxx = signal.welch(x=rri, fs=fs)\n",
    "    \n",
    "    '''\n",
    "    Segement found frequencies in the bands \n",
    "     - Very Low Frequency (VLF): 0-0.04Hz \n",
    "     - Low Frequency (LF): 0.04-0.15Hz \n",
    "     - High Frequency (HF): 0.15-0.4Hz\n",
    "    '''\n",
    "    cond_vlf = (fxx >= 0) & (fxx < 0.04)\n",
    "    cond_lf = (fxx >= 0.04) & (fxx < 0.15)\n",
    "    cond_hf = (fxx >= 0.15) & (fxx < 0.4)\n",
    "    \n",
    "    # calculate power in each band by integrating the spectral density \n",
    "    vlf = trapz(pxx[cond_vlf], fxx[cond_vlf])\n",
    "    lf = trapz(pxx[cond_lf], fxx[cond_lf])\n",
    "    hf = trapz(pxx[cond_hf], fxx[cond_hf])\n",
    "    \n",
    "    # sum these up to get total power\n",
    "    total_power = vlf + lf + hf\n",
    "\n",
    "    # find which frequency has the most power in each band\n",
    "    peak_vlf = fxx[cond_vlf][np.argmax(pxx[cond_vlf])]\n",
    "    peak_lf = fxx[cond_lf][np.argmax(pxx[cond_lf])]\n",
    "    peak_hf = fxx[cond_hf][np.argmax(pxx[cond_hf])]\n",
    "\n",
    "    # fraction of lf and hf\n",
    "    lf_nu = 100 * lf / (lf + hf)\n",
    "    hf_nu = 100 * hf / (lf + hf)\n",
    "    result=[vlf,lf,hf,total_power,lf/hf,peak_vlf,peak_lf,peak_hf,lf_nu,hf_nu]\n",
    "    return np.array(result),fxx, pxx\n",
    "#     results = {}\n",
    "#     results['Power VLF (ms2)'] = vlf\n",
    "#     results['Power LF (ms2)'] = lf\n",
    "#     results['Power HF (ms2)'] = hf   \n",
    "#     results['Power Total (ms2)'] = total_power\n",
    "\n",
    "#     results['LF/HF'] = (lf/hf)\n",
    "#     results['Peak VLF (Hz)'] = peak_vlf\n",
    "#     results['Peak LF (Hz)'] = peak_lf\n",
    "#     results['Peak HF (Hz)'] = peak_hf\n",
    "\n",
    "#     results['Fraction LF (nu)'] = lf_nu\n",
    "#     results['Fraction HF (nu)'] = hf_nu\n",
    "#     return results, fxx, pxx\n"
   ]
  },
  {
   "cell_type": "code",
   "execution_count": 30,
   "metadata": {},
   "outputs": [],
   "source": [
    "x=rr_interpolated[0]"
   ]
  },
  {
   "cell_type": "code",
   "execution_count": 31,
   "metadata": {},
   "outputs": [],
   "source": [
    "freq_feat=[]\n",
    "for i in range(len(data)):\n",
    "    results, fxx, pxx = frequency_domain(rr_interpolated[i])\n",
    "    freq_feat.append(results)\n"
   ]
  },
  {
   "cell_type": "code",
   "execution_count": 32,
   "metadata": {},
   "outputs": [
    {
     "data": {
      "text/plain": [
       "(54, 10)"
      ]
     },
     "execution_count": 32,
     "metadata": {},
     "output_type": "execute_result"
    }
   ],
   "source": [
    "np.array(freq_feat).shape"
   ]
  },
  {
   "cell_type": "code",
   "execution_count": 33,
   "metadata": {},
   "outputs": [
    {
     "data": {
      "text/html": [
       "<div>\n",
       "<style scoped>\n",
       "    .dataframe tbody tr th:only-of-type {\n",
       "        vertical-align: middle;\n",
       "    }\n",
       "\n",
       "    .dataframe tbody tr th {\n",
       "        vertical-align: top;\n",
       "    }\n",
       "\n",
       "    .dataframe thead th {\n",
       "        text-align: right;\n",
       "    }\n",
       "</style>\n",
       "<table border=\"1\" class=\"dataframe\">\n",
       "  <thead>\n",
       "    <tr style=\"text-align: right;\">\n",
       "      <th></th>\n",
       "      <th>vlf</th>\n",
       "      <th>lf</th>\n",
       "      <th>hf</th>\n",
       "      <th>tot_pow</th>\n",
       "      <th>lf_hf_ratio</th>\n",
       "      <th>peak_vlf</th>\n",
       "      <th>peak_lf</th>\n",
       "      <th>peak_hf</th>\n",
       "      <th>lf_nu</th>\n",
       "      <th>hf_nu</th>\n",
       "    </tr>\n",
       "  </thead>\n",
       "  <tbody>\n",
       "    <tr>\n",
       "      <th>0</th>\n",
       "      <td>36.700723</td>\n",
       "      <td>100.981021</td>\n",
       "      <td>80.752792</td>\n",
       "      <td>218.434537</td>\n",
       "      <td>1.250496</td>\n",
       "      <td>0.031250</td>\n",
       "      <td>0.062500</td>\n",
       "      <td>0.250000</td>\n",
       "      <td>55.565345</td>\n",
       "      <td>44.434655</td>\n",
       "    </tr>\n",
       "    <tr>\n",
       "      <th>1</th>\n",
       "      <td>794.710707</td>\n",
       "      <td>3921.708694</td>\n",
       "      <td>1447.209416</td>\n",
       "      <td>6163.628816</td>\n",
       "      <td>2.709842</td>\n",
       "      <td>0.031250</td>\n",
       "      <td>0.078125</td>\n",
       "      <td>0.156250</td>\n",
       "      <td>73.044673</td>\n",
       "      <td>26.955327</td>\n",
       "    </tr>\n",
       "    <tr>\n",
       "      <th>2</th>\n",
       "      <td>151.001098</td>\n",
       "      <td>207.593686</td>\n",
       "      <td>205.527292</td>\n",
       "      <td>564.122077</td>\n",
       "      <td>1.010054</td>\n",
       "      <td>0.015625</td>\n",
       "      <td>0.046875</td>\n",
       "      <td>0.203125</td>\n",
       "      <td>50.250096</td>\n",
       "      <td>49.749904</td>\n",
       "    </tr>\n",
       "    <tr>\n",
       "      <th>3</th>\n",
       "      <td>16.892781</td>\n",
       "      <td>38.349158</td>\n",
       "      <td>50.758252</td>\n",
       "      <td>106.000191</td>\n",
       "      <td>0.755526</td>\n",
       "      <td>0.031250</td>\n",
       "      <td>0.078125</td>\n",
       "      <td>0.234375</td>\n",
       "      <td>43.037002</td>\n",
       "      <td>56.962998</td>\n",
       "    </tr>\n",
       "    <tr>\n",
       "      <th>4</th>\n",
       "      <td>187.974207</td>\n",
       "      <td>285.774136</td>\n",
       "      <td>672.367222</td>\n",
       "      <td>1146.115564</td>\n",
       "      <td>0.425027</td>\n",
       "      <td>0.031250</td>\n",
       "      <td>0.062500</td>\n",
       "      <td>0.343750</td>\n",
       "      <td>29.825885</td>\n",
       "      <td>70.174115</td>\n",
       "    </tr>\n",
       "  </tbody>\n",
       "</table>\n",
       "</div>"
      ],
      "text/plain": [
       "          vlf           lf           hf      tot_pow  lf_hf_ratio  peak_vlf  \\\n",
       "0   36.700723   100.981021    80.752792   218.434537     1.250496  0.031250   \n",
       "1  794.710707  3921.708694  1447.209416  6163.628816     2.709842  0.031250   \n",
       "2  151.001098   207.593686   205.527292   564.122077     1.010054  0.015625   \n",
       "3   16.892781    38.349158    50.758252   106.000191     0.755526  0.031250   \n",
       "4  187.974207   285.774136   672.367222  1146.115564     0.425027  0.031250   \n",
       "\n",
       "    peak_lf   peak_hf      lf_nu      hf_nu  \n",
       "0  0.062500  0.250000  55.565345  44.434655  \n",
       "1  0.078125  0.156250  73.044673  26.955327  \n",
       "2  0.046875  0.203125  50.250096  49.749904  \n",
       "3  0.078125  0.234375  43.037002  56.962998  \n",
       "4  0.062500  0.343750  29.825885  70.174115  "
      ]
     },
     "execution_count": 33,
     "metadata": {},
     "output_type": "execute_result"
    }
   ],
   "source": [
    "freq_col=['vlf','lf','hf','tot_pow','lf_hf_ratio','peak_vlf','peak_lf','peak_hf','lf_nu','hf_nu']\n",
    "freq_features=pd.DataFrame(freq_feat,columns=freq_col)\n",
    "freq_features.head()"
   ]
  },
  {
   "cell_type": "code",
   "execution_count": 34,
   "metadata": {},
   "outputs": [
    {
     "data": {
      "text/html": [
       "<div>\n",
       "<style scoped>\n",
       "    .dataframe tbody tr th:only-of-type {\n",
       "        vertical-align: middle;\n",
       "    }\n",
       "\n",
       "    .dataframe tbody tr th {\n",
       "        vertical-align: top;\n",
       "    }\n",
       "\n",
       "    .dataframe thead th {\n",
       "        text-align: right;\n",
       "    }\n",
       "</style>\n",
       "<table border=\"1\" class=\"dataframe\">\n",
       "  <thead>\n",
       "    <tr style=\"text-align: right;\">\n",
       "      <th></th>\n",
       "      <th>mean</th>\n",
       "      <th>var</th>\n",
       "      <th>median</th>\n",
       "      <th>amax</th>\n",
       "      <th>amin</th>\n",
       "      <th>ranges</th>\n",
       "      <th>rmssd</th>\n",
       "      <th>sdsd</th>\n",
       "      <th>nni_50</th>\n",
       "      <th>pnni_50</th>\n",
       "      <th>...</th>\n",
       "      <th>vlf</th>\n",
       "      <th>lf</th>\n",
       "      <th>hf</th>\n",
       "      <th>tot_pow</th>\n",
       "      <th>lf_hf_ratio</th>\n",
       "      <th>peak_vlf</th>\n",
       "      <th>peak_lf</th>\n",
       "      <th>peak_hf</th>\n",
       "      <th>lf_nu</th>\n",
       "      <th>hf_nu</th>\n",
       "    </tr>\n",
       "  </thead>\n",
       "  <tbody>\n",
       "    <tr>\n",
       "      <th>0</th>\n",
       "      <td>692.616660</td>\n",
       "      <td>325.216547</td>\n",
       "      <td>689.314286</td>\n",
       "      <td>783.000000</td>\n",
       "      <td>658.471429</td>\n",
       "      <td>124.528571</td>\n",
       "      <td>12.948296</td>\n",
       "      <td>12.966107</td>\n",
       "      <td>2.0</td>\n",
       "      <td>0.593472</td>\n",
       "      <td>...</td>\n",
       "      <td>36.700723</td>\n",
       "      <td>100.981021</td>\n",
       "      <td>80.752792</td>\n",
       "      <td>218.434537</td>\n",
       "      <td>1.250496</td>\n",
       "      <td>0.031250</td>\n",
       "      <td>0.062500</td>\n",
       "      <td>0.250000</td>\n",
       "      <td>55.565345</td>\n",
       "      <td>44.434655</td>\n",
       "    </tr>\n",
       "    <tr>\n",
       "      <th>1</th>\n",
       "      <td>795.525731</td>\n",
       "      <td>4084.047573</td>\n",
       "      <td>791.028571</td>\n",
       "      <td>1487.942857</td>\n",
       "      <td>586.200000</td>\n",
       "      <td>901.742857</td>\n",
       "      <td>52.590324</td>\n",
       "      <td>52.668534</td>\n",
       "      <td>11.0</td>\n",
       "      <td>3.264095</td>\n",
       "      <td>...</td>\n",
       "      <td>794.710707</td>\n",
       "      <td>3921.708694</td>\n",
       "      <td>1447.209416</td>\n",
       "      <td>6163.628816</td>\n",
       "      <td>2.709842</td>\n",
       "      <td>0.031250</td>\n",
       "      <td>0.078125</td>\n",
       "      <td>0.156250</td>\n",
       "      <td>73.044673</td>\n",
       "      <td>26.955327</td>\n",
       "    </tr>\n",
       "    <tr>\n",
       "      <th>2</th>\n",
       "      <td>884.116702</td>\n",
       "      <td>1891.973673</td>\n",
       "      <td>881.314286</td>\n",
       "      <td>989.428571</td>\n",
       "      <td>645.314286</td>\n",
       "      <td>344.114286</td>\n",
       "      <td>22.442022</td>\n",
       "      <td>22.466721</td>\n",
       "      <td>14.0</td>\n",
       "      <td>4.154303</td>\n",
       "      <td>...</td>\n",
       "      <td>151.001098</td>\n",
       "      <td>207.593686</td>\n",
       "      <td>205.527292</td>\n",
       "      <td>564.122077</td>\n",
       "      <td>1.010054</td>\n",
       "      <td>0.015625</td>\n",
       "      <td>0.046875</td>\n",
       "      <td>0.203125</td>\n",
       "      <td>50.250096</td>\n",
       "      <td>49.749904</td>\n",
       "    </tr>\n",
       "    <tr>\n",
       "      <th>3</th>\n",
       "      <td>686.036456</td>\n",
       "      <td>159.012470</td>\n",
       "      <td>685.571429</td>\n",
       "      <td>737.714286</td>\n",
       "      <td>658.471429</td>\n",
       "      <td>79.242857</td>\n",
       "      <td>8.302045</td>\n",
       "      <td>8.314343</td>\n",
       "      <td>0.0</td>\n",
       "      <td>0.000000</td>\n",
       "      <td>...</td>\n",
       "      <td>16.892781</td>\n",
       "      <td>38.349158</td>\n",
       "      <td>50.758252</td>\n",
       "      <td>106.000191</td>\n",
       "      <td>0.755526</td>\n",
       "      <td>0.031250</td>\n",
       "      <td>0.078125</td>\n",
       "      <td>0.234375</td>\n",
       "      <td>43.037002</td>\n",
       "      <td>56.962998</td>\n",
       "    </tr>\n",
       "    <tr>\n",
       "      <th>4</th>\n",
       "      <td>716.362018</td>\n",
       "      <td>2973.381779</td>\n",
       "      <td>690.828571</td>\n",
       "      <td>941.600000</td>\n",
       "      <td>655.742857</td>\n",
       "      <td>285.857143</td>\n",
       "      <td>37.519444</td>\n",
       "      <td>37.574123</td>\n",
       "      <td>56.0</td>\n",
       "      <td>16.617211</td>\n",
       "      <td>...</td>\n",
       "      <td>187.974207</td>\n",
       "      <td>285.774136</td>\n",
       "      <td>672.367222</td>\n",
       "      <td>1146.115564</td>\n",
       "      <td>0.425027</td>\n",
       "      <td>0.031250</td>\n",
       "      <td>0.062500</td>\n",
       "      <td>0.343750</td>\n",
       "      <td>29.825885</td>\n",
       "      <td>70.174115</td>\n",
       "    </tr>\n",
       "  </tbody>\n",
       "</table>\n",
       "<p>5 rows × 34 columns</p>\n",
       "</div>"
      ],
      "text/plain": [
       "         mean          var      median         amax        amin      ranges  \\\n",
       "0  692.616660   325.216547  689.314286   783.000000  658.471429  124.528571   \n",
       "1  795.525731  4084.047573  791.028571  1487.942857  586.200000  901.742857   \n",
       "2  884.116702  1891.973673  881.314286   989.428571  645.314286  344.114286   \n",
       "3  686.036456   159.012470  685.571429   737.714286  658.471429   79.242857   \n",
       "4  716.362018  2973.381779  690.828571   941.600000  655.742857  285.857143   \n",
       "\n",
       "       rmssd       sdsd  nni_50    pnni_50  ...         vlf           lf  \\\n",
       "0  12.948296  12.966107     2.0   0.593472  ...   36.700723   100.981021   \n",
       "1  52.590324  52.668534    11.0   3.264095  ...  794.710707  3921.708694   \n",
       "2  22.442022  22.466721    14.0   4.154303  ...  151.001098   207.593686   \n",
       "3   8.302045   8.314343     0.0   0.000000  ...   16.892781    38.349158   \n",
       "4  37.519444  37.574123    56.0  16.617211  ...  187.974207   285.774136   \n",
       "\n",
       "            hf      tot_pow  lf_hf_ratio  peak_vlf   peak_lf   peak_hf  \\\n",
       "0    80.752792   218.434537     1.250496  0.031250  0.062500  0.250000   \n",
       "1  1447.209416  6163.628816     2.709842  0.031250  0.078125  0.156250   \n",
       "2   205.527292   564.122077     1.010054  0.015625  0.046875  0.203125   \n",
       "3    50.758252   106.000191     0.755526  0.031250  0.078125  0.234375   \n",
       "4   672.367222  1146.115564     0.425027  0.031250  0.062500  0.343750   \n",
       "\n",
       "       lf_nu      hf_nu  \n",
       "0  55.565345  44.434655  \n",
       "1  73.044673  26.955327  \n",
       "2  50.250096  49.749904  \n",
       "3  43.037002  56.962998  \n",
       "4  29.825885  70.174115  \n",
       "\n",
       "[5 rows x 34 columns]"
      ]
     },
     "execution_count": 34,
     "metadata": {},
     "output_type": "execute_result"
    }
   ],
   "source": [
    "features=pd.concat([time_features,freq_features],axis=1)\n",
    "features.head()"
   ]
  },
  {
   "cell_type": "markdown",
   "metadata": {},
   "source": [
    "# Classification"
   ]
  },
  {
   "cell_type": "markdown",
   "metadata": {},
   "source": [
    "### split features to train and test"
   ]
  },
  {
   "cell_type": "code",
   "execution_count": 35,
   "metadata": {},
   "outputs": [],
   "source": [
    "from sklearn.model_selection import train_test_split\n",
    "X_train,X_test,y_train,y_test=train_test_split(features,labels,test_size=0.3,shuffle=True,stratify=labels)"
   ]
  },
  {
   "cell_type": "markdown",
   "metadata": {},
   "source": [
    "### Scale the data"
   ]
  },
  {
   "cell_type": "code",
   "execution_count": 36,
   "metadata": {},
   "outputs": [],
   "source": [
    "from sklearn.preprocessing import StandardScaler,scale,MaxAbsScaler\n",
    "scaling=StandardScaler()\n",
    "X_train=scaling.fit_transform(X_train)\n",
    "X_test=scaling.transform(X_test)"
   ]
  },
  {
   "cell_type": "markdown",
   "metadata": {},
   "source": [
    "### Apply Classifier"
   ]
  },
  {
   "cell_type": "code",
   "execution_count": 37,
   "metadata": {},
   "outputs": [
    {
     "data": {
      "text/plain": [
       "SVC(C=1.0, break_ties=False, cache_size=200, class_weight=None, coef0=0.0,\n",
       "    decision_function_shape='ovr', degree=3, gamma='scale', kernel='rbf',\n",
       "    max_iter=-1, probability=False, random_state=None, shrinking=True,\n",
       "    tol=0.001, verbose=False)"
      ]
     },
     "execution_count": 37,
     "metadata": {},
     "output_type": "execute_result"
    }
   ],
   "source": [
    "from sklearn.svm import SVC\n",
    "from sklearn.neighbors import KNeighborsClassifier\n",
    "from sklearn.linear_model import LogisticRegression,LogisticRegressionCV\n",
    "clf=SVC()\n",
    "clf.fit(X_train,y_train)"
   ]
  },
  {
   "cell_type": "code",
   "execution_count": 38,
   "metadata": {},
   "outputs": [
    {
     "data": {
      "text/plain": [
       "0.7058823529411765"
      ]
     },
     "execution_count": 38,
     "metadata": {},
     "output_type": "execute_result"
    }
   ],
   "source": [
    "clf.score(X_test,y_test)"
   ]
  },
  {
   "cell_type": "markdown",
   "metadata": {},
   "source": [
    "### Calculate predicted values"
   ]
  },
  {
   "cell_type": "code",
   "execution_count": 39,
   "metadata": {},
   "outputs": [],
   "source": [
    "y_pred=clf.predict(X_test)"
   ]
  },
  {
   "cell_type": "markdown",
   "metadata": {},
   "source": [
    "### print classification report"
   ]
  },
  {
   "cell_type": "code",
   "execution_count": 40,
   "metadata": {},
   "outputs": [
    {
     "name": "stdout",
     "output_type": "stream",
     "text": [
      "              precision    recall  f1-score   support\n",
      "\n",
      "           0       0.64      0.88      0.74         8\n",
      "           1       0.83      0.56      0.67         9\n",
      "\n",
      "    accuracy                           0.71        17\n",
      "   macro avg       0.73      0.72      0.70        17\n",
      "weighted avg       0.74      0.71      0.70        17\n",
      "\n"
     ]
    }
   ],
   "source": [
    "from sklearn.metrics import classification_report\n",
    "print(classification_report(y_test, y_pred))"
   ]
  },
  {
   "cell_type": "code",
   "execution_count": 41,
   "metadata": {},
   "outputs": [
    {
     "name": "stdout",
     "output_type": "stream",
     "text": [
      "[[7 1]\n",
      " [4 5]]\n"
     ]
    }
   ],
   "source": [
    "from sklearn.metrics import confusion_matrix\n",
    "print(confusion_matrix(y_test, y_pred))"
   ]
  },
  {
   "cell_type": "code",
   "execution_count": 42,
   "metadata": {},
   "outputs": [],
   "source": [
    "#feature=scale(features)\n",
    "# clf=LogisticRegressionCV(max_iter=2000).fit(features,labels)\n",
    "# clf.score(features,labels)"
   ]
  },
  {
   "cell_type": "code",
   "execution_count": 43,
   "metadata": {},
   "outputs": [
    {
     "data": {
      "text/plain": [
       "0.7592592592592593"
      ]
     },
     "execution_count": 43,
     "metadata": {},
     "output_type": "execute_result"
    }
   ],
   "source": [
    "feature=scale(features)\n",
    "clf=LogisticRegressionCV(max_iter=2000).fit(feature,labels)\n",
    "clf.score(feature,labels)"
   ]
  },
  {
   "cell_type": "code",
   "execution_count": 44,
   "metadata": {},
   "outputs": [
    {
     "data": {
      "text/plain": [
       "0.7066666666666668"
      ]
     },
     "execution_count": 44,
     "metadata": {},
     "output_type": "execute_result"
    }
   ],
   "source": [
    "from sklearn.model_selection import cross_val_score\n",
    "cross_val_score(SVC(), feature,labels, cv = 10).mean()"
   ]
  },
  {
   "cell_type": "markdown",
   "metadata": {},
   "source": [
    "# Grid search"
   ]
  },
  {
   "cell_type": "code",
   "execution_count": 45,
   "metadata": {},
   "outputs": [],
   "source": [
    "from sklearn.model_selection import StratifiedKFold,KFold\n",
    "from sklearn.model_selection import GridSearchCV\n",
    "from sklearn.pipeline import Pipeline"
   ]
  },
  {
   "cell_type": "code",
   "execution_count": 46,
   "metadata": {},
   "outputs": [],
   "source": [
    "cv=StratifiedKFold(27)\n",
    "#cv=KFold(27)"
   ]
  },
  {
   "cell_type": "code",
   "execution_count": 47,
   "metadata": {},
   "outputs": [],
   "source": [
    "\n",
    "from ml_algo import logistic_param_selection\n",
    "#logistic_param_selection(features,labels,cv=cv)\n"
   ]
  },
  {
   "cell_type": "code",
   "execution_count": 48,
   "metadata": {},
   "outputs": [
    {
     "name": "stdout",
     "output_type": "stream",
     "text": [
      "{'clf__metric': 'minkowski', 'clf__n_neighbors': 3, 'clf__weights': 'uniform'}\n"
     ]
    },
    {
     "data": {
      "text/plain": [
       "0.7222222222222222"
      ]
     },
     "execution_count": 48,
     "metadata": {},
     "output_type": "execute_result"
    }
   ],
   "source": [
    "from ml_algo import knn_param_selection\n",
    "\n",
    "knn_param_selection(features,labels,cv=cv)"
   ]
  },
  {
   "cell_type": "code",
   "execution_count": 49,
   "metadata": {},
   "outputs": [],
   "source": [
    "from ml_algo import rf_param_selection\n",
    "\n",
    "#rf_param_selection(feature,labels,cv=cv)"
   ]
  },
  {
   "cell_type": "code",
   "execution_count": 50,
   "metadata": {},
   "outputs": [],
   "source": [
    "from ml_algo import dtree_param_selection\n",
    "#dtree_param_selection(features,labels,cv=cv)"
   ]
  },
  {
   "cell_type": "code",
   "execution_count": 51,
   "metadata": {},
   "outputs": [
    {
     "name": "stdout",
     "output_type": "stream",
     "text": [
      "0.7222222222222222\n"
     ]
    },
    {
     "data": {
      "text/plain": [
       "{'clf__C': 2, 'clf__gamma': 0.1}"
      ]
     },
     "execution_count": 51,
     "metadata": {},
     "output_type": "execute_result"
    }
   ],
   "source": [
    "from ml_algo import svc_param_selection\n",
    "svc_param_selection(features,labels,cv=cv)"
   ]
  },
  {
   "cell_type": "code",
   "execution_count": 52,
   "metadata": {},
   "outputs": [],
   "source": [
    "# from sklearn.feature_selection import RFE\n",
    "# from sklearn.model_selection import cross_val_score\n",
    "# rfe=RFE(SVC(kernel='linear'),n_features_to_select=10,step=5,verbose=0)   \n",
    "\n",
    "# pipeline = Pipeline([('scaler', StandardScaler()),('selector',rfe), ('estimator', clf)])\n",
    "\n",
    "# scores = cross_val_score(pipeline, features,labels, cv = cv)\n",
    "# print('average accuracy : ',np.array(scores).mean(),np.std(np.array(scores)))"
   ]
  },
  {
   "cell_type": "markdown",
   "metadata": {},
   "source": [
    "# GA"
   ]
  },
  {
   "cell_type": "code",
   "execution_count": 53,
   "metadata": {},
   "outputs": [
    {
     "name": "stdout",
     "output_type": "stream",
     "text": [
      "The number of Features: 34\n",
      "The Shape of Training Data is : (54, 34) and Target Data is : (54,)\n",
      "Accuracy For All the features: (0.7222222222222222, 0)\n",
      "\n",
      "gen\tnevals\tavg     \tmin     \tmax     \n",
      "0  \t15    \t0.661728\t0.574074\t0.722222\n",
      "1  \t14    \t0.695062\t0.648148\t0.740741\n",
      "2  \t12    \t0.714815\t0.648148\t0.777778\n",
      "3  \t14    \t0.728395\t0.648148\t0.777778\n",
      "4  \t12    \t0.753086\t0.666667\t0.777778\n",
      "5  \t13    \t0.769136\t0.666667\t0.777778\n",
      "6  \t14    \t0.77284 \t0.722222\t0.777778\n",
      "7  \t11    \t0.767901\t0.62963 \t0.777778\n",
      "8  \t14    \t0.771605\t0.722222\t0.796296\n",
      "9  \t14    \t0.783951\t0.759259\t0.796296\n",
      "10 \t14    \t0.795062\t0.777778\t0.796296\n",
      "11 \t13    \t0.793827\t0.759259\t0.796296\n",
      "12 \t14    \t0.796296\t0.796296\t0.796296\n",
      "13 \t13    \t0.783951\t0.62963 \t0.814815\n",
      "14 \t14    \t0.798765\t0.777778\t0.814815\n",
      "15 \t12    \t0.804938\t0.759259\t0.814815\n",
      "16 \t11    \t0.81358 \t0.796296\t0.814815\n",
      "17 \t14    \t0.806173\t0.685185\t0.814815\n",
      "18 \t12    \t0.814815\t0.814815\t0.814815\n",
      "19 \t12    \t0.814815\t0.814815\t0.814815\n",
      "20 \t13    \t0.814815\t0.814815\t0.814815\n",
      "Best Accuracy: \t0.8148148148148148\n",
      "Number of Features in Subset: \t16\n",
      "Feature Subset: ['var', 'ranges', 'nni_50', 'pnni_50', 'nni_20', 'pnni_20', 'std_hr', 'max_hr', 'sd_ratio', 'energy', 'abs_sum_diff', 'hf', 'peak_vlf', 'peak_hf', 'lf_nu', 'hf_nu']\n",
      "\n"
     ]
    },
    {
     "data": {
      "text/plain": [
       "<GAs.FeatureSelectionGA at 0x20e87fbc748>"
      ]
     },
     "execution_count": 53,
     "metadata": {},
     "output_type": "execute_result"
    },
    {
     "data": {
      "image/png": "[encoded data removed]",
      "text/plain": [
       "<Figure size 432x288 with 1 Axes>"
      ]
     },
     "metadata": {
      "needs_background": "light"
     },
     "output_type": "display_data"
    }
   ],
   "source": [
    "import GAs\n",
    "#clf=SVC(C=3, gamma=0.1)\n",
    "clf=KNeighborsClassifier(metric= 'minkowski', n_neighbors= 6, weights='distance')\n",
    "#clf=DecisionTreeClassifier(criterion= 'entropy',max_depth= 8,max_features= 'auto',random_state= 30)\n",
    "GAs.FeatureSelectionGA(clf,features,labels,cv_split=cv,n_gen=20)"
   ]
  },
  {
   "cell_type": "code",
   "execution_count": null,
   "metadata": {},
   "outputs": [],
   "source": []
  }
 ],
 "metadata": {
  "kernelspec": {
   "display_name": "Python 3",
   "language": "python",
   "name": "python3"
  },
  "language_info": {
   "codemirror_mode": {
    "name": "ipython",
    "version": 3
   },
   "file_extension": ".py",
   "mimetype": "text/x-python",
   "name": "python",
   "nbconvert_exporter": "python",
   "pygments_lexer": "ipython3",
   "version": "3.7.6"
  }
 },
 "nbformat": 4,
 "nbformat_minor": 4
}
