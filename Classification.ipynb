{
  "nbformat": 4,
  "nbformat_minor": 0,
  "metadata": {
    "colab": {
      "name": "Untitled1.ipynb",
      "provenance": [],
      "authorship_tag": "ABX9TyP+OgirgfrJRqMTe4qsd2Tt",
      "include_colab_link": true
    },
    "kernelspec": {
      "name": "python3",
      "display_name": "Python 3"
    }
  },
  "cells": [
    {
      "cell_type": "markdown",
      "metadata": {
        "id": "view-in-github",
        "colab_type": "text"
      },
      "source": [
        "<a href=\"https://colab.research.google.com/github/talhaanwarch/PPG_mental_stress/blob/master/Classification.ipynb\" target=\"_parent\"><img src=\"https://colab.research.google.com/assets/colab-badge.svg\" alt=\"Open In Colab\"/></a>"
      ]
    },
    {
      "cell_type": "code",
      "metadata": {
        "id": "9PWYWz9xH-dF",
        "colab_type": "code",
        "colab": {}
      },
      "source": [
        "import pandas as pd\n",
        "from sklearn.model_selection import GridSearchCV\n",
        "from sklearn.decomposition import PCA\n",
        "from sklearn.svm import SVC, LinearSVC, NuSVC\n",
        "from sklearn.preprocessing import StandardScaler\n",
        "from sklearn.pipeline import Pipeline\n"
      ],
      "execution_count": 0,
      "outputs": []
    },
    {
      "cell_type": "code",
      "metadata": {
        "id": "Nig7zR5hIFqd",
        "colab_type": "code",
        "colab": {}
      },
      "source": [
        "url='https://raw.githubusercontent.com/talhaanwarch/PPG_mental_stress/master/data.csv'"
      ],
      "execution_count": 0,
      "outputs": []
    },
    {
      "cell_type": "code",
      "metadata": {
        "id": "O1n5g_jJIDHy",
        "colab_type": "code",
        "colab": {}
      },
      "source": [
        "data=pd.read_csv(url)"
      ],
      "execution_count": 0,
      "outputs": []
    },
    {
      "cell_type": "code",
      "metadata": {
        "id": "m-7q3g1MIMnW",
        "colab_type": "code",
        "colab": {
          "base_uri": "https://localhost:8080/",
          "height": 229
        },
        "outputId": "cb939996-b699-49cc-db9c-479eef0531e3"
      },
      "source": [
        "data.head()"
      ],
      "execution_count": 4,
      "outputs": [
        {
          "output_type": "execute_result",
          "data": {
            "text/html": [
              "<div>\n",
              "<style scoped>\n",
              "    .dataframe tbody tr th:only-of-type {\n",
              "        vertical-align: middle;\n",
              "    }\n",
              "\n",
              "    .dataframe tbody tr th {\n",
              "        vertical-align: top;\n",
              "    }\n",
              "\n",
              "    .dataframe thead th {\n",
              "        text-align: right;\n",
              "    }\n",
              "</style>\n",
              "<table border=\"1\" class=\"dataframe\">\n",
              "  <thead>\n",
              "    <tr style=\"text-align: right;\">\n",
              "      <th></th>\n",
              "      <th>Mean RR*</th>\n",
              "      <th>STD RR (SDNN)</th>\n",
              "      <th>Mean HR*</th>\n",
              "      <th>Min HR</th>\n",
              "      <th>RMSSD</th>\n",
              "      <th>NNxx</th>\n",
              "      <th>pNNxx</th>\n",
              "      <th>HRV triangular index</th>\n",
              "      <th>TINN</th>\n",
              "      <th>Poincare plot, SD1</th>\n",
              "      <th>Poincare plot, SD2</th>\n",
              "      <th>FFT Power (ms2)</th>\n",
              "      <th>FFT Power (log)</th>\n",
              "      <th>AR Power (ms2)</th>\n",
              "      <th>AR Power (log)</th>\n",
              "      <th>FFT Power (ms2).1</th>\n",
              "      <th>FFT Power (log).1</th>\n",
              "      <th>AR Power (ms2).1</th>\n",
              "      <th>AR Power (log).1</th>\n",
              "      <th>Class</th>\n",
              "    </tr>\n",
              "  </thead>\n",
              "  <tbody>\n",
              "    <tr>\n",
              "      <th>0</th>\n",
              "      <td>711.63</td>\n",
              "      <td>37.729</td>\n",
              "      <td>84.314</td>\n",
              "      <td>68.650</td>\n",
              "      <td>26.4880</td>\n",
              "      <td>166</td>\n",
              "      <td>9.464100</td>\n",
              "      <td>12.8100</td>\n",
              "      <td>187</td>\n",
              "      <td>9.0405</td>\n",
              "      <td>28.248</td>\n",
              "      <td>268.18</td>\n",
              "      <td>5.5917</td>\n",
              "      <td>289.26</td>\n",
              "      <td>5.6673</td>\n",
              "      <td>53.782</td>\n",
              "      <td>3.9849</td>\n",
              "      <td>56.074</td>\n",
              "      <td>4.0267</td>\n",
              "      <td>0</td>\n",
              "    </tr>\n",
              "    <tr>\n",
              "      <th>1</th>\n",
              "      <td>777.13</td>\n",
              "      <td>12.742</td>\n",
              "      <td>77.207</td>\n",
              "      <td>65.502</td>\n",
              "      <td>8.7235</td>\n",
              "      <td>1</td>\n",
              "      <td>0.062267</td>\n",
              "      <td>4.3668</td>\n",
              "      <td>70</td>\n",
              "      <td>6.1704</td>\n",
              "      <td>16.934</td>\n",
              "      <td>101.23</td>\n",
              "      <td>4.6174</td>\n",
              "      <td>101.64</td>\n",
              "      <td>4.6215</td>\n",
              "      <td>23.747</td>\n",
              "      <td>3.1674</td>\n",
              "      <td>22.940</td>\n",
              "      <td>3.1329</td>\n",
              "      <td>0</td>\n",
              "    </tr>\n",
              "    <tr>\n",
              "      <th>2</th>\n",
              "      <td>620.35</td>\n",
              "      <td>21.315</td>\n",
              "      <td>96.720</td>\n",
              "      <td>80.000</td>\n",
              "      <td>17.4290</td>\n",
              "      <td>30</td>\n",
              "      <td>1.684400</td>\n",
              "      <td>5.3036</td>\n",
              "      <td>194</td>\n",
              "      <td>7.9726</td>\n",
              "      <td>20.423</td>\n",
              "      <td>169.02</td>\n",
              "      <td>5.1300</td>\n",
              "      <td>181.95</td>\n",
              "      <td>5.2037</td>\n",
              "      <td>114.770</td>\n",
              "      <td>4.7429</td>\n",
              "      <td>167.440</td>\n",
              "      <td>5.1206</td>\n",
              "      <td>0</td>\n",
              "    </tr>\n",
              "    <tr>\n",
              "      <th>3</th>\n",
              "      <td>792.12</td>\n",
              "      <td>36.751</td>\n",
              "      <td>75.746</td>\n",
              "      <td>56.604</td>\n",
              "      <td>23.6630</td>\n",
              "      <td>113</td>\n",
              "      <td>7.266900</td>\n",
              "      <td>11.7880</td>\n",
              "      <td>200</td>\n",
              "      <td>16.7380</td>\n",
              "      <td>49.142</td>\n",
              "      <td>900.60</td>\n",
              "      <td>6.8031</td>\n",
              "      <td>862.01</td>\n",
              "      <td>6.7593</td>\n",
              "      <td>157.190</td>\n",
              "      <td>5.0574</td>\n",
              "      <td>156.600</td>\n",
              "      <td>5.0537</td>\n",
              "      <td>0</td>\n",
              "    </tr>\n",
              "    <tr>\n",
              "      <th>4</th>\n",
              "      <td>672.65</td>\n",
              "      <td>39.062</td>\n",
              "      <td>89.199</td>\n",
              "      <td>71.090</td>\n",
              "      <td>21.7000</td>\n",
              "      <td>100</td>\n",
              "      <td>5.546300</td>\n",
              "      <td>10.8670</td>\n",
              "      <td>239</td>\n",
              "      <td>15.3490</td>\n",
              "      <td>53.069</td>\n",
              "      <td>1115.30</td>\n",
              "      <td>7.0169</td>\n",
              "      <td>1111.80</td>\n",
              "      <td>7.0137</td>\n",
              "      <td>130.210</td>\n",
              "      <td>4.8692</td>\n",
              "      <td>134.590</td>\n",
              "      <td>4.9023</td>\n",
              "      <td>0</td>\n",
              "    </tr>\n",
              "  </tbody>\n",
              "</table>\n",
              "</div>"
            ],
            "text/plain": [
              "   Mean RR*  STD RR (SDNN)  Mean HR*  ...  AR Power (ms2).1  AR Power (log).1  Class\n",
              "0    711.63         37.729    84.314  ...            56.074            4.0267      0\n",
              "1    777.13         12.742    77.207  ...            22.940            3.1329      0\n",
              "2    620.35         21.315    96.720  ...           167.440            5.1206      0\n",
              "3    792.12         36.751    75.746  ...           156.600            5.0537      0\n",
              "4    672.65         39.062    89.199  ...           134.590            4.9023      0\n",
              "\n",
              "[5 rows x 20 columns]"
            ]
          },
          "metadata": {
            "tags": []
          },
          "execution_count": 4
        }
      ]
    },
    {
      "cell_type": "code",
      "metadata": {
        "id": "1iCnXpB8INxG",
        "colab_type": "code",
        "colab": {}
      },
      "source": [
        "X=data.iloc[:,0:-1]\n",
        "y=data.iloc[:,-1]"
      ],
      "execution_count": 0,
      "outputs": []
    },
    {
      "cell_type": "code",
      "metadata": {
        "id": "tdi-cuWEIpYc",
        "colab_type": "code",
        "colab": {}
      },
      "source": [
        "sc=StandardScaler()\n",
        "pca=PCA()"
      ],
      "execution_count": 0,
      "outputs": []
    },
    {
      "cell_type": "code",
      "metadata": {
        "id": "C6L4hcvOIoCo",
        "colab_type": "code",
        "colab": {
          "base_uri": "https://localhost:8080/",
          "height": 84
        },
        "outputId": "87dba6d3-fe02-49b6-cb9b-7417d3c40355"
      },
      "source": [
        "clf = SVC(kernel=\"rbf\")\n",
        "Cs = [0.001,0.1, 1,2,3,5,7,10,15,30]\n",
        "gammas = [0.001,0.01,0.02,0.03,0.04,0.05,0.1,0.3,0.5,0.8,1]\n",
        "pipe = Pipeline(steps=[('scalar',sc), ('classifier', clf)])\n",
        "estimator = GridSearchCV(pipe,\n",
        "                         dict(classifier__C=Cs,classifier__gamma=gammas),cv=5,n_jobs=-1,iid=False) \n",
        "\n",
        "results = estimator.fit(X,y)\n",
        "print(results.best_score_ )\n",
        "results.best_params_"
      ],
      "execution_count": 9,
      "outputs": [
        {
          "output_type": "stream",
          "text": [
            "0.6935897435897436\n"
          ],
          "name": "stdout"
        },
        {
          "output_type": "stream",
          "text": [
            "/usr/local/lib/python3.6/dist-packages/sklearn/model_selection/_search.py:823: FutureWarning: The parameter 'iid' is deprecated in 0.22 and will be removed in 0.24.\n",
            "  \"removed in 0.24.\", FutureWarning\n"
          ],
          "name": "stderr"
        },
        {
          "output_type": "execute_result",
          "data": {
            "text/plain": [
              "{'classifier__C': 1, 'classifier__gamma': 1}"
            ]
          },
          "metadata": {
            "tags": []
          },
          "execution_count": 9
        }
      ]
    },
    {
      "cell_type": "code",
      "metadata": {
        "id": "iBZsX-b3IQpI",
        "colab_type": "code",
        "colab": {
          "base_uri": "https://localhost:8080/",
          "height": 84
        },
        "outputId": "d2a38a80-4e38-4f72-a36f-529bb7f6b998"
      },
      "source": [
        "sc=StandardScaler()\n",
        "pca=PCA()\n",
        "\n",
        "clf = SVC(kernel=\"rbf\")\n",
        "n_components = [3,5,10,15]\n",
        "Cs = [0.001,0.1, 1,2,3,5,7,10,15,30]\n",
        "gammas = [0.001,0.01,0.02,0.03,0.04,0.05,0.1,0.3,0.5,0.8,1]\n",
        "pipe = Pipeline(steps=[('scalar',sc),('selector', pca), ('classifier', clf)])\n",
        "estimator = GridSearchCV(pipe,\n",
        "                         dict(selector__n_components=n_components,\n",
        "                              classifier__C=Cs,classifier__gamma=gammas),cv=5,n_jobs=-1,iid=False) \n",
        "\n",
        "results = estimator.fit(X,y)\n",
        "print(results.best_score_ )\n",
        "results.best_params_"
      ],
      "execution_count": 7,
      "outputs": [
        {
          "output_type": "stream",
          "text": [
            "0.6935897435897436\n"
          ],
          "name": "stdout"
        },
        {
          "output_type": "stream",
          "text": [
            "/usr/local/lib/python3.6/dist-packages/sklearn/model_selection/_search.py:823: FutureWarning: The parameter 'iid' is deprecated in 0.22 and will be removed in 0.24.\n",
            "  \"removed in 0.24.\", FutureWarning\n"
          ],
          "name": "stderr"
        },
        {
          "output_type": "execute_result",
          "data": {
            "text/plain": [
              "{'classifier__C': 1, 'classifier__gamma': 1, 'selector__n_components': 10}"
            ]
          },
          "metadata": {
            "tags": []
          },
          "execution_count": 7
        }
      ]
    },
    {
      "cell_type": "code",
      "metadata": {
        "id": "wBS-QG2iIe00",
        "colab_type": "code",
        "colab": {
          "base_uri": "https://localhost:8080/",
          "height": 218
        },
        "outputId": "84c9441c-bd20-45f3-cc04-e4e33654d7a9"
      },
      "source": [
        "\n",
        "from sklearn.linear_model import LogisticRegression\n",
        "clf = LogisticRegression()\n",
        "C = [ 1,2,3,5,7,10,15,30,50,70,100]\n",
        "penalty=[\"l1\",\"l2\"]\n",
        "pipe = Pipeline(steps=[('scaler', sc), ('classifier', clf)])\n",
        "estimator = GridSearchCV(pipe,\n",
        "                         dict(classifier__C=C,classifier__penalty=penalty),cv=5,n_jobs=-1,iid=False) \n",
        "\n",
        "results = estimator.fit(X,y)\n",
        "print(results.best_score_ )\n",
        "results.best_params_"
      ],
      "execution_count": 10,
      "outputs": [
        {
          "output_type": "stream",
          "text": [
            "0.6461538461538462\n"
          ],
          "name": "stdout"
        },
        {
          "output_type": "stream",
          "text": [
            "/usr/local/lib/python3.6/dist-packages/sklearn/model_selection/_search.py:823: FutureWarning: The parameter 'iid' is deprecated in 0.22 and will be removed in 0.24.\n",
            "  \"removed in 0.24.\", FutureWarning\n",
            "/usr/local/lib/python3.6/dist-packages/sklearn/linear_model/_logistic.py:940: ConvergenceWarning: lbfgs failed to converge (status=1):\n",
            "STOP: TOTAL NO. of ITERATIONS REACHED LIMIT.\n",
            "\n",
            "Increase the number of iterations (max_iter) or scale the data as shown in:\n",
            "    https://scikit-learn.org/stable/modules/preprocessing.html\n",
            "Please also refer to the documentation for alternative solver options:\n",
            "    https://scikit-learn.org/stable/modules/linear_model.html#logistic-regression\n",
            "  extra_warning_msg=_LOGISTIC_SOLVER_CONVERGENCE_MSG)\n"
          ],
          "name": "stderr"
        },
        {
          "output_type": "execute_result",
          "data": {
            "text/plain": [
              "{'classifier__C': 100, 'classifier__penalty': 'l2'}"
            ]
          },
          "metadata": {
            "tags": []
          },
          "execution_count": 10
        }
      ]
    },
    {
      "cell_type": "code",
      "metadata": {
        "id": "R1jpQj5rI5e2",
        "colab_type": "code",
        "colab": {}
      },
      "source": [
        ""
      ],
      "execution_count": 0,
      "outputs": []
    }
  ]
}